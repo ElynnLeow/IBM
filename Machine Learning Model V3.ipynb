{
 "cells": [
  {
   "cell_type": "code",
   "execution_count": 8,
   "metadata": {},
   "outputs": [],
   "source": [
    "# perform necessary import\n",
    "import pandas as pd\n",
    "import matplotlib.pyplot as plt\n",
    "import seaborn as sns\n",
    "import numpy as np\n",
    "import numpy.random as nr\n",
    "import math\n",
    "from sklearn import feature_selection as fs \n",
    "from sklearn.model_selection import train_test_split \n",
    "from sklearn.preprocessing import StandardScaler\n",
    "from sklearn.ensemble import RandomForestRegressor \n",
    "from sklearn.metrics import r2_score \n",
    "from sklearn.metrics import mean_squared_error \n",
    "\n",
    "%matplotlib inline"
   ]
  },
  {
   "cell_type": "code",
   "execution_count": 55,
   "metadata": {},
   "outputs": [],
   "source": [
    "# load datasets\n",
    "ppl_info = pd.read_csv(r'C:\\Users\\Capstone\\train_values.csv')\n",
    "evictions = pd.read_csv(r'C:\\Users\\Capstone\\train_labels.csv')"
   ]
  },
  {
   "cell_type": "code",
   "execution_count": 56,
   "metadata": {},
   "outputs": [
    {
     "name": "stdout",
     "output_type": "stream",
     "text": [
      "(2546, 48)\n",
      "(2546,)\n",
      "(2546, 48)\n",
      "(2546,)\n"
     ]
    }
   ],
   "source": [
    "# remove duplicates\n",
    "print(ppl_info.shape)\n",
    "print(ppl_info.row_id.unique().shape)\n",
    "ppl_info.drop_duplicates(subset = 'row_id', keep = 'last', inplace = True)\n",
    "print(ppl_info.shape)\n",
    "print(ppl_info.row_id.unique().shape)"
   ]
  },
  {
   "cell_type": "code",
   "execution_count": 57,
   "metadata": {},
   "outputs": [
    {
     "name": "stdout",
     "output_type": "stream",
     "text": [
      "(2546, 2)\n",
      "(2546,)\n",
      "(2546, 2)\n",
      "(2546,)\n"
     ]
    }
   ],
   "source": [
    "# remove duplicates\n",
    "print(evictions.shape)\n",
    "print(evictions.row_id.unique().shape)\n",
    "evictions.drop_duplicates(subset = 'row_id', keep = 'last', inplace = True)\n",
    "print(evictions.shape)\n",
    "print(evictions.row_id.unique().shape)"
   ]
  },
  {
   "cell_type": "code",
   "execution_count": 58,
   "metadata": {},
   "outputs": [
    {
     "data": {
      "text/plain": [
       "row_id       False\n",
       "evictions    False\n",
       "dtype: bool"
      ]
     },
     "execution_count": 58,
     "metadata": {},
     "output_type": "execute_result"
    }
   ],
   "source": [
    "# check for missing values\n",
    "(ppl_info.astype(np.object).isnull()).any()\n",
    "(evictions.astype(np.object).isnull()).any()"
   ]
  },
  {
   "cell_type": "markdown",
   "metadata": {},
   "source": [
    "Merge data for analysis."
   ]
  },
  {
   "cell_type": "code",
   "execution_count": 59,
   "metadata": {},
   "outputs": [
    {
     "data": {
      "text/html": [
       "<div>\n",
       "<style scoped>\n",
       "    .dataframe tbody tr th:only-of-type {\n",
       "        vertical-align: middle;\n",
       "    }\n",
       "\n",
       "    .dataframe tbody tr th {\n",
       "        vertical-align: top;\n",
       "    }\n",
       "\n",
       "    .dataframe thead th {\n",
       "        text-align: right;\n",
       "    }\n",
       "</style>\n",
       "<table border=\"1\" class=\"dataframe\">\n",
       "  <thead>\n",
       "    <tr style=\"text-align: right;\">\n",
       "      <th></th>\n",
       "      <th>row_id</th>\n",
       "      <th>county_code</th>\n",
       "      <th>year</th>\n",
       "      <th>state</th>\n",
       "      <th>population</th>\n",
       "      <th>renter_occupied_households</th>\n",
       "      <th>pct_renter_occupied</th>\n",
       "      <th>median_gross_rent</th>\n",
       "      <th>median_household_income</th>\n",
       "      <th>median_property_value</th>\n",
       "      <th>...</th>\n",
       "      <th>pct_female</th>\n",
       "      <th>pct_below_18_years_of_age</th>\n",
       "      <th>pct_aged_65_years_and_older</th>\n",
       "      <th>pct_adults_less_than_a_high_school_diploma</th>\n",
       "      <th>pct_adults_with_high_school_diploma</th>\n",
       "      <th>pct_adults_with_some_college</th>\n",
       "      <th>pct_adults_bachelors_or_higher</th>\n",
       "      <th>birth_rate_per_1k</th>\n",
       "      <th>death_rate_per_1k</th>\n",
       "      <th>evictions</th>\n",
       "    </tr>\n",
       "  </thead>\n",
       "  <tbody>\n",
       "    <tr>\n",
       "      <th>0</th>\n",
       "      <td>0</td>\n",
       "      <td>a4e2211</td>\n",
       "      <td>b</td>\n",
       "      <td>d725a95</td>\n",
       "      <td>45009.0</td>\n",
       "      <td>6944.0</td>\n",
       "      <td>37.218</td>\n",
       "      <td>643.0</td>\n",
       "      <td>33315.0</td>\n",
       "      <td>98494.0</td>\n",
       "      <td>...</td>\n",
       "      <td>0.532</td>\n",
       "      <td>0.252</td>\n",
       "      <td>0.153</td>\n",
       "      <td>0.233000</td>\n",
       "      <td>0.375000</td>\n",
       "      <td>0.278000</td>\n",
       "      <td>0.114000</td>\n",
       "      <td>12.915129</td>\n",
       "      <td>11.205112</td>\n",
       "      <td>681</td>\n",
       "    </tr>\n",
       "    <tr>\n",
       "      <th>1</th>\n",
       "      <td>1</td>\n",
       "      <td>583e0c7</td>\n",
       "      <td>a</td>\n",
       "      <td>533155c</td>\n",
       "      <td>9872.0</td>\n",
       "      <td>1224.0</td>\n",
       "      <td>31.773</td>\n",
       "      <td>517.0</td>\n",
       "      <td>43724.0</td>\n",
       "      <td>85444.0</td>\n",
       "      <td>...</td>\n",
       "      <td>0.509</td>\n",
       "      <td>0.252</td>\n",
       "      <td>0.188</td>\n",
       "      <td>0.073293</td>\n",
       "      <td>0.397590</td>\n",
       "      <td>0.331325</td>\n",
       "      <td>0.197791</td>\n",
       "      <td>11.049159</td>\n",
       "      <td>12.276843</td>\n",
       "      <td>0</td>\n",
       "    </tr>\n",
       "    <tr>\n",
       "      <th>2</th>\n",
       "      <td>2</td>\n",
       "      <td>4776bfd</td>\n",
       "      <td>b</td>\n",
       "      <td>d725a95</td>\n",
       "      <td>17625.0</td>\n",
       "      <td>1725.0</td>\n",
       "      <td>21.973</td>\n",
       "      <td>671.0</td>\n",
       "      <td>37777.0</td>\n",
       "      <td>136162.0</td>\n",
       "      <td>...</td>\n",
       "      <td>0.451</td>\n",
       "      <td>0.166</td>\n",
       "      <td>0.189</td>\n",
       "      <td>0.206587</td>\n",
       "      <td>0.303393</td>\n",
       "      <td>0.301397</td>\n",
       "      <td>0.188623</td>\n",
       "      <td>7.903576</td>\n",
       "      <td>10.161741</td>\n",
       "      <td>29</td>\n",
       "    </tr>\n",
       "    <tr>\n",
       "      <th>3</th>\n",
       "      <td>3</td>\n",
       "      <td>97fb48d</td>\n",
       "      <td>a</td>\n",
       "      <td>d725a95</td>\n",
       "      <td>134136.0</td>\n",
       "      <td>18180.0</td>\n",
       "      <td>36.809</td>\n",
       "      <td>603.0</td>\n",
       "      <td>30607.0</td>\n",
       "      <td>70062.0</td>\n",
       "      <td>...</td>\n",
       "      <td>0.519</td>\n",
       "      <td>0.263</td>\n",
       "      <td>0.125</td>\n",
       "      <td>0.248255</td>\n",
       "      <td>0.334995</td>\n",
       "      <td>0.290130</td>\n",
       "      <td>0.126620</td>\n",
       "      <td>13.137119</td>\n",
       "      <td>10.202072</td>\n",
       "      <td>841</td>\n",
       "    </tr>\n",
       "    <tr>\n",
       "      <th>4</th>\n",
       "      <td>4</td>\n",
       "      <td>47a9ba3</td>\n",
       "      <td>a</td>\n",
       "      <td>be99678</td>\n",
       "      <td>6936.0</td>\n",
       "      <td>551.0</td>\n",
       "      <td>17.627</td>\n",
       "      <td>668.0</td>\n",
       "      <td>44237.0</td>\n",
       "      <td>187066.0</td>\n",
       "      <td>...</td>\n",
       "      <td>0.487</td>\n",
       "      <td>0.196</td>\n",
       "      <td>0.203</td>\n",
       "      <td>0.058648</td>\n",
       "      <td>0.276342</td>\n",
       "      <td>0.413519</td>\n",
       "      <td>0.251491</td>\n",
       "      <td>6.084752</td>\n",
       "      <td>5.939877</td>\n",
       "      <td>2</td>\n",
       "    </tr>\n",
       "  </tbody>\n",
       "</table>\n",
       "<p>5 rows × 49 columns</p>\n",
       "</div>"
      ],
      "text/plain": [
       "   row_id county_code year    state  population  renter_occupied_households  \\\n",
       "0       0     a4e2211    b  d725a95     45009.0                      6944.0   \n",
       "1       1     583e0c7    a  533155c      9872.0                      1224.0   \n",
       "2       2     4776bfd    b  d725a95     17625.0                      1725.0   \n",
       "3       3     97fb48d    a  d725a95    134136.0                     18180.0   \n",
       "4       4     47a9ba3    a  be99678      6936.0                       551.0   \n",
       "\n",
       "   pct_renter_occupied  median_gross_rent  median_household_income  \\\n",
       "0               37.218              643.0                  33315.0   \n",
       "1               31.773              517.0                  43724.0   \n",
       "2               21.973              671.0                  37777.0   \n",
       "3               36.809              603.0                  30607.0   \n",
       "4               17.627              668.0                  44237.0   \n",
       "\n",
       "   median_property_value    ...      pct_female  pct_below_18_years_of_age  \\\n",
       "0                98494.0    ...           0.532                      0.252   \n",
       "1                85444.0    ...           0.509                      0.252   \n",
       "2               136162.0    ...           0.451                      0.166   \n",
       "3                70062.0    ...           0.519                      0.263   \n",
       "4               187066.0    ...           0.487                      0.196   \n",
       "\n",
       "   pct_aged_65_years_and_older  pct_adults_less_than_a_high_school_diploma  \\\n",
       "0                        0.153                                    0.233000   \n",
       "1                        0.188                                    0.073293   \n",
       "2                        0.189                                    0.206587   \n",
       "3                        0.125                                    0.248255   \n",
       "4                        0.203                                    0.058648   \n",
       "\n",
       "   pct_adults_with_high_school_diploma  pct_adults_with_some_college  \\\n",
       "0                             0.375000                      0.278000   \n",
       "1                             0.397590                      0.331325   \n",
       "2                             0.303393                      0.301397   \n",
       "3                             0.334995                      0.290130   \n",
       "4                             0.276342                      0.413519   \n",
       "\n",
       "   pct_adults_bachelors_or_higher  birth_rate_per_1k  death_rate_per_1k  \\\n",
       "0                        0.114000          12.915129          11.205112   \n",
       "1                        0.197791          11.049159          12.276843   \n",
       "2                        0.188623           7.903576          10.161741   \n",
       "3                        0.126620          13.137119          10.202072   \n",
       "4                        0.251491           6.084752           5.939877   \n",
       "\n",
       "   evictions  \n",
       "0        681  \n",
       "1          0  \n",
       "2         29  \n",
       "3        841  \n",
       "4          2  \n",
       "\n",
       "[5 rows x 49 columns]"
      ]
     },
     "execution_count": 59,
     "metadata": {},
     "output_type": "execute_result"
    }
   ],
   "source": [
    "combined = ppl_info\n",
    "combined = ppl_info.merge(evictions, on='row_id', how='left')\n",
    "combined.head()"
   ]
  },
  {
   "cell_type": "code",
   "execution_count": 60,
   "metadata": {},
   "outputs": [
    {
     "data": {
      "text/plain": [
       "row_id                                        False\n",
       "county_code                                   False\n",
       "year                                          False\n",
       "state                                         False\n",
       "population                                    False\n",
       "renter_occupied_households                    False\n",
       "pct_renter_occupied                           False\n",
       "median_gross_rent                             False\n",
       "median_household_income                        True\n",
       "median_property_value                          True\n",
       "rent_burden                                   False\n",
       "pct_white                                     False\n",
       "pct_af_am                                     False\n",
       "pct_hispanic                                  False\n",
       "pct_am_ind                                    False\n",
       "pct_asian                                     False\n",
       "pct_nh_pi                                     False\n",
       "pct_multiple                                  False\n",
       "pct_other                                     False\n",
       "poverty_rate                                  False\n",
       "rucc                                          False\n",
       "urban_influence                               False\n",
       "economic_typology                             False\n",
       "pct_civilian_labor                            False\n",
       "pct_unemployment                              False\n",
       "pct_uninsured_adults                          False\n",
       "pct_uninsured_children                        False\n",
       "pct_adult_obesity                             False\n",
       "pct_adult_smoking                              True\n",
       "pct_diabetes                                  False\n",
       "pct_low_birthweight                            True\n",
       "pct_excessive_drinking                         True\n",
       "pct_physical_inactivity                       False\n",
       "air_pollution_particulate_matter_value         True\n",
       "homicides_per_100k                             True\n",
       "motor_vehicle_crash_deaths_per_100k            True\n",
       "heart_disease_mortality_per_100k              False\n",
       "pop_per_dentist                                True\n",
       "pop_per_primary_care_physician                 True\n",
       "pct_female                                    False\n",
       "pct_below_18_years_of_age                     False\n",
       "pct_aged_65_years_and_older                   False\n",
       "pct_adults_less_than_a_high_school_diploma    False\n",
       "pct_adults_with_high_school_diploma           False\n",
       "pct_adults_with_some_college                  False\n",
       "pct_adults_bachelors_or_higher                False\n",
       "birth_rate_per_1k                             False\n",
       "death_rate_per_1k                             False\n",
       "evictions                                     False\n",
       "dtype: bool"
      ]
     },
     "execution_count": 60,
     "metadata": {},
     "output_type": "execute_result"
    }
   ],
   "source": [
    "#check missing values\n",
    "combined.isna().any()"
   ]
  },
  {
   "cell_type": "code",
   "execution_count": 61,
   "metadata": {},
   "outputs": [
    {
     "data": {
      "text/html": [
       "<div>\n",
       "<style scoped>\n",
       "    .dataframe tbody tr th:only-of-type {\n",
       "        vertical-align: middle;\n",
       "    }\n",
       "\n",
       "    .dataframe tbody tr th {\n",
       "        vertical-align: top;\n",
       "    }\n",
       "\n",
       "    .dataframe thead th {\n",
       "        text-align: right;\n",
       "    }\n",
       "</style>\n",
       "<table border=\"1\" class=\"dataframe\">\n",
       "  <thead>\n",
       "    <tr style=\"text-align: right;\">\n",
       "      <th></th>\n",
       "      <th>row_id</th>\n",
       "      <th>county_code</th>\n",
       "      <th>year</th>\n",
       "      <th>state</th>\n",
       "      <th>population</th>\n",
       "      <th>renter_occupied_households</th>\n",
       "      <th>pct_renter_occupied</th>\n",
       "      <th>median_gross_rent</th>\n",
       "      <th>median_household_income</th>\n",
       "      <th>median_property_value</th>\n",
       "      <th>...</th>\n",
       "      <th>pct_female</th>\n",
       "      <th>pct_below_18_years_of_age</th>\n",
       "      <th>pct_aged_65_years_and_older</th>\n",
       "      <th>pct_adults_less_than_a_high_school_diploma</th>\n",
       "      <th>pct_adults_with_high_school_diploma</th>\n",
       "      <th>pct_adults_with_some_college</th>\n",
       "      <th>pct_adults_bachelors_or_higher</th>\n",
       "      <th>birth_rate_per_1k</th>\n",
       "      <th>death_rate_per_1k</th>\n",
       "      <th>evictions</th>\n",
       "    </tr>\n",
       "  </thead>\n",
       "  <tbody>\n",
       "    <tr>\n",
       "      <th>2306</th>\n",
       "      <td>2306</td>\n",
       "      <td>95253e1</td>\n",
       "      <td>a</td>\n",
       "      <td>930f257</td>\n",
       "      <td>116.0</td>\n",
       "      <td>14.0</td>\n",
       "      <td>50.677</td>\n",
       "      <td>871.0</td>\n",
       "      <td>NaN</td>\n",
       "      <td>93217.0</td>\n",
       "      <td>...</td>\n",
       "      <td>0.467</td>\n",
       "      <td>0.273</td>\n",
       "      <td>0.095</td>\n",
       "      <td>0.198610</td>\n",
       "      <td>0.518371</td>\n",
       "      <td>0.264151</td>\n",
       "      <td>0.018868</td>\n",
       "      <td>9.900990</td>\n",
       "      <td>9.900990</td>\n",
       "      <td>0</td>\n",
       "    </tr>\n",
       "    <tr>\n",
       "      <th>2377</th>\n",
       "      <td>2377</td>\n",
       "      <td>95253e1</td>\n",
       "      <td>b</td>\n",
       "      <td>930f257</td>\n",
       "      <td>116.0</td>\n",
       "      <td>14.0</td>\n",
       "      <td>50.971</td>\n",
       "      <td>870.0</td>\n",
       "      <td>NaN</td>\n",
       "      <td>93221.0</td>\n",
       "      <td>...</td>\n",
       "      <td>0.461</td>\n",
       "      <td>0.126</td>\n",
       "      <td>0.099</td>\n",
       "      <td>0.196985</td>\n",
       "      <td>0.521608</td>\n",
       "      <td>0.262312</td>\n",
       "      <td>0.019095</td>\n",
       "      <td>21.052632</td>\n",
       "      <td>10.526316</td>\n",
       "      <td>0</td>\n",
       "    </tr>\n",
       "  </tbody>\n",
       "</table>\n",
       "<p>2 rows × 49 columns</p>\n",
       "</div>"
      ],
      "text/plain": [
       "      row_id county_code year    state  population  \\\n",
       "2306    2306     95253e1    a  930f257       116.0   \n",
       "2377    2377     95253e1    b  930f257       116.0   \n",
       "\n",
       "      renter_occupied_households  pct_renter_occupied  median_gross_rent  \\\n",
       "2306                        14.0               50.677              871.0   \n",
       "2377                        14.0               50.971              870.0   \n",
       "\n",
       "      median_household_income  median_property_value    ...      pct_female  \\\n",
       "2306                      NaN                93217.0    ...           0.467   \n",
       "2377                      NaN                93221.0    ...           0.461   \n",
       "\n",
       "      pct_below_18_years_of_age  pct_aged_65_years_and_older  \\\n",
       "2306                      0.273                        0.095   \n",
       "2377                      0.126                        0.099   \n",
       "\n",
       "      pct_adults_less_than_a_high_school_diploma  \\\n",
       "2306                                    0.198610   \n",
       "2377                                    0.196985   \n",
       "\n",
       "      pct_adults_with_high_school_diploma  pct_adults_with_some_college  \\\n",
       "2306                             0.518371                      0.264151   \n",
       "2377                             0.521608                      0.262312   \n",
       "\n",
       "      pct_adults_bachelors_or_higher  birth_rate_per_1k  death_rate_per_1k  \\\n",
       "2306                        0.018868           9.900990           9.900990   \n",
       "2377                        0.019095          21.052632          10.526316   \n",
       "\n",
       "      evictions  \n",
       "2306          0  \n",
       "2377          0  \n",
       "\n",
       "[2 rows x 49 columns]"
      ]
     },
     "execution_count": 61,
     "metadata": {},
     "output_type": "execute_result"
    }
   ],
   "source": [
    "combined[combined['median_household_income'].isna()]"
   ]
  },
  {
   "cell_type": "code",
   "execution_count": 62,
   "metadata": {},
   "outputs": [
    {
     "data": {
      "text/html": [
       "<div>\n",
       "<style scoped>\n",
       "    .dataframe tbody tr th:only-of-type {\n",
       "        vertical-align: middle;\n",
       "    }\n",
       "\n",
       "    .dataframe tbody tr th {\n",
       "        vertical-align: top;\n",
       "    }\n",
       "\n",
       "    .dataframe thead th {\n",
       "        text-align: right;\n",
       "    }\n",
       "</style>\n",
       "<table border=\"1\" class=\"dataframe\">\n",
       "  <thead>\n",
       "    <tr style=\"text-align: right;\">\n",
       "      <th></th>\n",
       "      <th>row_id</th>\n",
       "      <th>county_code</th>\n",
       "      <th>year</th>\n",
       "      <th>state</th>\n",
       "      <th>population</th>\n",
       "      <th>renter_occupied_households</th>\n",
       "      <th>pct_renter_occupied</th>\n",
       "      <th>median_gross_rent</th>\n",
       "      <th>median_household_income</th>\n",
       "      <th>median_property_value</th>\n",
       "      <th>...</th>\n",
       "      <th>pct_female</th>\n",
       "      <th>pct_below_18_years_of_age</th>\n",
       "      <th>pct_aged_65_years_and_older</th>\n",
       "      <th>pct_adults_less_than_a_high_school_diploma</th>\n",
       "      <th>pct_adults_with_high_school_diploma</th>\n",
       "      <th>pct_adults_with_some_college</th>\n",
       "      <th>pct_adults_bachelors_or_higher</th>\n",
       "      <th>birth_rate_per_1k</th>\n",
       "      <th>death_rate_per_1k</th>\n",
       "      <th>evictions</th>\n",
       "    </tr>\n",
       "  </thead>\n",
       "  <tbody>\n",
       "    <tr>\n",
       "      <th>1461</th>\n",
       "      <td>1461</td>\n",
       "      <td>375421b</td>\n",
       "      <td>b</td>\n",
       "      <td>930f257</td>\n",
       "      <td>563.0</td>\n",
       "      <td>95.0</td>\n",
       "      <td>67.695</td>\n",
       "      <td>558.0</td>\n",
       "      <td>36438.0</td>\n",
       "      <td>NaN</td>\n",
       "      <td>...</td>\n",
       "      <td>0.485</td>\n",
       "      <td>0.253</td>\n",
       "      <td>0.147</td>\n",
       "      <td>0.322645</td>\n",
       "      <td>0.333667</td>\n",
       "      <td>0.192385</td>\n",
       "      <td>0.151303</td>\n",
       "      <td>9.523810</td>\n",
       "      <td>7.142857</td>\n",
       "      <td>0</td>\n",
       "    </tr>\n",
       "    <tr>\n",
       "      <th>1816</th>\n",
       "      <td>1816</td>\n",
       "      <td>375421b</td>\n",
       "      <td>a</td>\n",
       "      <td>930f257</td>\n",
       "      <td>570.0</td>\n",
       "      <td>96.0</td>\n",
       "      <td>67.239</td>\n",
       "      <td>558.0</td>\n",
       "      <td>36438.0</td>\n",
       "      <td>NaN</td>\n",
       "      <td>...</td>\n",
       "      <td>0.496</td>\n",
       "      <td>0.219</td>\n",
       "      <td>0.162</td>\n",
       "      <td>0.322000</td>\n",
       "      <td>0.336000</td>\n",
       "      <td>0.192000</td>\n",
       "      <td>0.150000</td>\n",
       "      <td>7.263923</td>\n",
       "      <td>0.000000</td>\n",
       "      <td>0</td>\n",
       "    </tr>\n",
       "  </tbody>\n",
       "</table>\n",
       "<p>2 rows × 49 columns</p>\n",
       "</div>"
      ],
      "text/plain": [
       "      row_id county_code year    state  population  \\\n",
       "1461    1461     375421b    b  930f257       563.0   \n",
       "1816    1816     375421b    a  930f257       570.0   \n",
       "\n",
       "      renter_occupied_households  pct_renter_occupied  median_gross_rent  \\\n",
       "1461                        95.0               67.695              558.0   \n",
       "1816                        96.0               67.239              558.0   \n",
       "\n",
       "      median_household_income  median_property_value    ...      pct_female  \\\n",
       "1461                  36438.0                    NaN    ...           0.485   \n",
       "1816                  36438.0                    NaN    ...           0.496   \n",
       "\n",
       "      pct_below_18_years_of_age  pct_aged_65_years_and_older  \\\n",
       "1461                      0.253                        0.147   \n",
       "1816                      0.219                        0.162   \n",
       "\n",
       "      pct_adults_less_than_a_high_school_diploma  \\\n",
       "1461                                    0.322645   \n",
       "1816                                    0.322000   \n",
       "\n",
       "      pct_adults_with_high_school_diploma  pct_adults_with_some_college  \\\n",
       "1461                             0.333667                      0.192385   \n",
       "1816                             0.336000                      0.192000   \n",
       "\n",
       "      pct_adults_bachelors_or_higher  birth_rate_per_1k  death_rate_per_1k  \\\n",
       "1461                        0.151303           9.523810           7.142857   \n",
       "1816                        0.150000           7.263923           0.000000   \n",
       "\n",
       "      evictions  \n",
       "1461          0  \n",
       "1816          0  \n",
       "\n",
       "[2 rows x 49 columns]"
      ]
     },
     "execution_count": 62,
     "metadata": {},
     "output_type": "execute_result"
    }
   ],
   "source": [
    "combined[combined['median_property_value'].isna()]"
   ]
  },
  {
   "cell_type": "code",
   "execution_count": 63,
   "metadata": {},
   "outputs": [],
   "source": [
    "# Fill up NA values with Mean\n",
    "combined['median_household_income'].fillna(combined['median_household_income'].mean(),inplace=True)\n",
    "combined['median_property_value'].fillna(combined['median_property_value'].mean(),inplace=True)"
   ]
  },
  {
   "cell_type": "code",
   "execution_count": 64,
   "metadata": {},
   "outputs": [],
   "source": [
    "#drop columns with NA values\n",
    "combined.drop(['pct_adult_smoking',\n",
    "'pct_low_birthweight',\n",
    "'pct_excessive_drinking',\n",
    "'air_pollution_particulate_matter_value',\n",
    "'homicides_per_100k',\n",
    "'motor_vehicle_crash_deaths_per_100k',\n",
    "'pop_per_dentist',\n",
    "'pop_per_primary_care_physician'],axis=1,inplace=True)"
   ]
  },
  {
   "cell_type": "code",
   "execution_count": 65,
   "metadata": {},
   "outputs": [
    {
     "data": {
      "text/plain": [
       "row_id                                        False\n",
       "county_code                                   False\n",
       "year                                          False\n",
       "state                                         False\n",
       "population                                    False\n",
       "renter_occupied_households                    False\n",
       "pct_renter_occupied                           False\n",
       "median_gross_rent                             False\n",
       "median_household_income                       False\n",
       "median_property_value                         False\n",
       "rent_burden                                   False\n",
       "pct_white                                     False\n",
       "pct_af_am                                     False\n",
       "pct_hispanic                                  False\n",
       "pct_am_ind                                    False\n",
       "pct_asian                                     False\n",
       "pct_nh_pi                                     False\n",
       "pct_multiple                                  False\n",
       "pct_other                                     False\n",
       "poverty_rate                                  False\n",
       "rucc                                          False\n",
       "urban_influence                               False\n",
       "economic_typology                             False\n",
       "pct_civilian_labor                            False\n",
       "pct_unemployment                              False\n",
       "pct_uninsured_adults                          False\n",
       "pct_uninsured_children                        False\n",
       "pct_adult_obesity                             False\n",
       "pct_diabetes                                  False\n",
       "pct_physical_inactivity                       False\n",
       "heart_disease_mortality_per_100k              False\n",
       "pct_female                                    False\n",
       "pct_below_18_years_of_age                     False\n",
       "pct_aged_65_years_and_older                   False\n",
       "pct_adults_less_than_a_high_school_diploma    False\n",
       "pct_adults_with_high_school_diploma           False\n",
       "pct_adults_with_some_college                  False\n",
       "pct_adults_bachelors_or_higher                False\n",
       "birth_rate_per_1k                             False\n",
       "death_rate_per_1k                             False\n",
       "evictions                                     False\n",
       "dtype: bool"
      ]
     },
     "execution_count": 65,
     "metadata": {},
     "output_type": "execute_result"
    }
   ],
   "source": [
    "combined.isna().any()"
   ]
  },
  {
   "cell_type": "code",
   "execution_count": 66,
   "metadata": {},
   "outputs": [
    {
     "data": {
      "text/plain": [
       "row_id                                          int64\n",
       "county_code                                    object\n",
       "year                                           object\n",
       "state                                          object\n",
       "population                                    float64\n",
       "renter_occupied_households                    float64\n",
       "pct_renter_occupied                           float64\n",
       "median_gross_rent                             float64\n",
       "median_household_income                       float64\n",
       "median_property_value                         float64\n",
       "rent_burden                                   float64\n",
       "pct_white                                     float64\n",
       "pct_af_am                                     float64\n",
       "pct_hispanic                                  float64\n",
       "pct_am_ind                                    float64\n",
       "pct_asian                                     float64\n",
       "pct_nh_pi                                     float64\n",
       "pct_multiple                                  float64\n",
       "pct_other                                     float64\n",
       "poverty_rate                                  float64\n",
       "rucc                                           object\n",
       "urban_influence                                object\n",
       "economic_typology                              object\n",
       "pct_civilian_labor                            float64\n",
       "pct_unemployment                              float64\n",
       "pct_uninsured_adults                          float64\n",
       "pct_uninsured_children                        float64\n",
       "pct_adult_obesity                             float64\n",
       "pct_diabetes                                  float64\n",
       "pct_physical_inactivity                       float64\n",
       "heart_disease_mortality_per_100k                int64\n",
       "pct_female                                    float64\n",
       "pct_below_18_years_of_age                     float64\n",
       "pct_aged_65_years_and_older                   float64\n",
       "pct_adults_less_than_a_high_school_diploma    float64\n",
       "pct_adults_with_high_school_diploma           float64\n",
       "pct_adults_with_some_college                  float64\n",
       "pct_adults_bachelors_or_higher                float64\n",
       "birth_rate_per_1k                             float64\n",
       "death_rate_per_1k                             float64\n",
       "evictions                                       int64\n",
       "dtype: object"
      ]
     },
     "execution_count": 66,
     "metadata": {},
     "output_type": "execute_result"
    }
   ],
   "source": [
    "combined.dtypes"
   ]
  },
  {
   "cell_type": "markdown",
   "metadata": {},
   "source": [
    "Now it is time to prepare the data for training.\n",
    "\n",
    "1.We will be doing one-hot encoding for categorical variables.    \n",
    "2.Converting features to numpy arrays for scikit learn ML library."
   ]
  },
  {
   "cell_type": "code",
   "execution_count": 67,
   "metadata": {},
   "outputs": [],
   "source": [
    "#sqaure Evictions\n",
    "combined['evictionsSqrt'] = np.floor(np.sqrt(combined['evictions']))"
   ]
  },
  {
   "cell_type": "code",
   "execution_count": 68,
   "metadata": {},
   "outputs": [
    {
     "data": {
      "text/html": [
       "<div>\n",
       "<style scoped>\n",
       "    .dataframe tbody tr th:only-of-type {\n",
       "        vertical-align: middle;\n",
       "    }\n",
       "\n",
       "    .dataframe tbody tr th {\n",
       "        vertical-align: top;\n",
       "    }\n",
       "\n",
       "    .dataframe thead th {\n",
       "        text-align: right;\n",
       "    }\n",
       "</style>\n",
       "<table border=\"1\" class=\"dataframe\">\n",
       "  <thead>\n",
       "    <tr style=\"text-align: right;\">\n",
       "      <th></th>\n",
       "      <th>row_id</th>\n",
       "      <th>county_code</th>\n",
       "      <th>year</th>\n",
       "      <th>state</th>\n",
       "      <th>population</th>\n",
       "      <th>renter_occupied_households</th>\n",
       "      <th>pct_renter_occupied</th>\n",
       "      <th>median_gross_rent</th>\n",
       "      <th>median_household_income</th>\n",
       "      <th>median_property_value</th>\n",
       "      <th>...</th>\n",
       "      <th>pct_below_18_years_of_age</th>\n",
       "      <th>pct_aged_65_years_and_older</th>\n",
       "      <th>pct_adults_less_than_a_high_school_diploma</th>\n",
       "      <th>pct_adults_with_high_school_diploma</th>\n",
       "      <th>pct_adults_with_some_college</th>\n",
       "      <th>pct_adults_bachelors_or_higher</th>\n",
       "      <th>birth_rate_per_1k</th>\n",
       "      <th>death_rate_per_1k</th>\n",
       "      <th>evictions</th>\n",
       "      <th>evictionsSqrt</th>\n",
       "    </tr>\n",
       "  </thead>\n",
       "  <tbody>\n",
       "    <tr>\n",
       "      <th>0</th>\n",
       "      <td>0</td>\n",
       "      <td>a4e2211</td>\n",
       "      <td>b</td>\n",
       "      <td>d725a95</td>\n",
       "      <td>45009.0</td>\n",
       "      <td>6944.0</td>\n",
       "      <td>37.218</td>\n",
       "      <td>643.0</td>\n",
       "      <td>33315.0</td>\n",
       "      <td>98494.0</td>\n",
       "      <td>...</td>\n",
       "      <td>0.252</td>\n",
       "      <td>0.153</td>\n",
       "      <td>0.233000</td>\n",
       "      <td>0.375000</td>\n",
       "      <td>0.278000</td>\n",
       "      <td>0.114000</td>\n",
       "      <td>12.915129</td>\n",
       "      <td>11.205112</td>\n",
       "      <td>681</td>\n",
       "      <td>26.0</td>\n",
       "    </tr>\n",
       "    <tr>\n",
       "      <th>1</th>\n",
       "      <td>1</td>\n",
       "      <td>583e0c7</td>\n",
       "      <td>a</td>\n",
       "      <td>533155c</td>\n",
       "      <td>9872.0</td>\n",
       "      <td>1224.0</td>\n",
       "      <td>31.773</td>\n",
       "      <td>517.0</td>\n",
       "      <td>43724.0</td>\n",
       "      <td>85444.0</td>\n",
       "      <td>...</td>\n",
       "      <td>0.252</td>\n",
       "      <td>0.188</td>\n",
       "      <td>0.073293</td>\n",
       "      <td>0.397590</td>\n",
       "      <td>0.331325</td>\n",
       "      <td>0.197791</td>\n",
       "      <td>11.049159</td>\n",
       "      <td>12.276843</td>\n",
       "      <td>0</td>\n",
       "      <td>0.0</td>\n",
       "    </tr>\n",
       "    <tr>\n",
       "      <th>2</th>\n",
       "      <td>2</td>\n",
       "      <td>4776bfd</td>\n",
       "      <td>b</td>\n",
       "      <td>d725a95</td>\n",
       "      <td>17625.0</td>\n",
       "      <td>1725.0</td>\n",
       "      <td>21.973</td>\n",
       "      <td>671.0</td>\n",
       "      <td>37777.0</td>\n",
       "      <td>136162.0</td>\n",
       "      <td>...</td>\n",
       "      <td>0.166</td>\n",
       "      <td>0.189</td>\n",
       "      <td>0.206587</td>\n",
       "      <td>0.303393</td>\n",
       "      <td>0.301397</td>\n",
       "      <td>0.188623</td>\n",
       "      <td>7.903576</td>\n",
       "      <td>10.161741</td>\n",
       "      <td>29</td>\n",
       "      <td>5.0</td>\n",
       "    </tr>\n",
       "    <tr>\n",
       "      <th>3</th>\n",
       "      <td>3</td>\n",
       "      <td>97fb48d</td>\n",
       "      <td>a</td>\n",
       "      <td>d725a95</td>\n",
       "      <td>134136.0</td>\n",
       "      <td>18180.0</td>\n",
       "      <td>36.809</td>\n",
       "      <td>603.0</td>\n",
       "      <td>30607.0</td>\n",
       "      <td>70062.0</td>\n",
       "      <td>...</td>\n",
       "      <td>0.263</td>\n",
       "      <td>0.125</td>\n",
       "      <td>0.248255</td>\n",
       "      <td>0.334995</td>\n",
       "      <td>0.290130</td>\n",
       "      <td>0.126620</td>\n",
       "      <td>13.137119</td>\n",
       "      <td>10.202072</td>\n",
       "      <td>841</td>\n",
       "      <td>29.0</td>\n",
       "    </tr>\n",
       "    <tr>\n",
       "      <th>4</th>\n",
       "      <td>4</td>\n",
       "      <td>47a9ba3</td>\n",
       "      <td>a</td>\n",
       "      <td>be99678</td>\n",
       "      <td>6936.0</td>\n",
       "      <td>551.0</td>\n",
       "      <td>17.627</td>\n",
       "      <td>668.0</td>\n",
       "      <td>44237.0</td>\n",
       "      <td>187066.0</td>\n",
       "      <td>...</td>\n",
       "      <td>0.196</td>\n",
       "      <td>0.203</td>\n",
       "      <td>0.058648</td>\n",
       "      <td>0.276342</td>\n",
       "      <td>0.413519</td>\n",
       "      <td>0.251491</td>\n",
       "      <td>6.084752</td>\n",
       "      <td>5.939877</td>\n",
       "      <td>2</td>\n",
       "      <td>1.0</td>\n",
       "    </tr>\n",
       "  </tbody>\n",
       "</table>\n",
       "<p>5 rows × 42 columns</p>\n",
       "</div>"
      ],
      "text/plain": [
       "   row_id county_code year    state  population  renter_occupied_households  \\\n",
       "0       0     a4e2211    b  d725a95     45009.0                      6944.0   \n",
       "1       1     583e0c7    a  533155c      9872.0                      1224.0   \n",
       "2       2     4776bfd    b  d725a95     17625.0                      1725.0   \n",
       "3       3     97fb48d    a  d725a95    134136.0                     18180.0   \n",
       "4       4     47a9ba3    a  be99678      6936.0                       551.0   \n",
       "\n",
       "   pct_renter_occupied  median_gross_rent  median_household_income  \\\n",
       "0               37.218              643.0                  33315.0   \n",
       "1               31.773              517.0                  43724.0   \n",
       "2               21.973              671.0                  37777.0   \n",
       "3               36.809              603.0                  30607.0   \n",
       "4               17.627              668.0                  44237.0   \n",
       "\n",
       "   median_property_value      ...        pct_below_18_years_of_age  \\\n",
       "0                98494.0      ...                            0.252   \n",
       "1                85444.0      ...                            0.252   \n",
       "2               136162.0      ...                            0.166   \n",
       "3                70062.0      ...                            0.263   \n",
       "4               187066.0      ...                            0.196   \n",
       "\n",
       "   pct_aged_65_years_and_older  pct_adults_less_than_a_high_school_diploma  \\\n",
       "0                        0.153                                    0.233000   \n",
       "1                        0.188                                    0.073293   \n",
       "2                        0.189                                    0.206587   \n",
       "3                        0.125                                    0.248255   \n",
       "4                        0.203                                    0.058648   \n",
       "\n",
       "   pct_adults_with_high_school_diploma  pct_adults_with_some_college  \\\n",
       "0                             0.375000                      0.278000   \n",
       "1                             0.397590                      0.331325   \n",
       "2                             0.303393                      0.301397   \n",
       "3                             0.334995                      0.290130   \n",
       "4                             0.276342                      0.413519   \n",
       "\n",
       "   pct_adults_bachelors_or_higher  birth_rate_per_1k  death_rate_per_1k  \\\n",
       "0                        0.114000          12.915129          11.205112   \n",
       "1                        0.197791          11.049159          12.276843   \n",
       "2                        0.188623           7.903576          10.161741   \n",
       "3                        0.126620          13.137119          10.202072   \n",
       "4                        0.251491           6.084752           5.939877   \n",
       "\n",
       "   evictions  evictionsSqrt  \n",
       "0        681           26.0  \n",
       "1          0            0.0  \n",
       "2         29            5.0  \n",
       "3        841           29.0  \n",
       "4          2            1.0  \n",
       "\n",
       "[5 rows x 42 columns]"
      ]
     },
     "execution_count": 68,
     "metadata": {},
     "output_type": "execute_result"
    }
   ],
   "source": [
    "combined.head()"
   ]
  },
  {
   "cell_type": "code",
   "execution_count": 69,
   "metadata": {},
   "outputs": [],
   "source": [
    "predictors = ['population',\n",
    "              'median_gross_rent',\n",
    "'median_household_income',\n",
    "'median_property_value',\n",
    "'rent_burden',\n",
    "'pct_white',\n",
    "'pct_af_am',\n",
    "'pct_asian',\n",
    "'pct_multiple',\n",
    "'poverty_rate',\n",
    "'pct_unemployment',\n",
    "'pct_uninsured_children',\n",
    "'pct_adults_with_high_school_diploma',\n",
    "'pct_adults_less_than_a_high_school_diploma',\n",
    "'pct_female'\n",
    "]"
   ]
  },
  {
   "cell_type": "code",
   "execution_count": 70,
   "metadata": {},
   "outputs": [],
   "source": [
    "features = combined[predictors]"
   ]
  },
  {
   "cell_type": "code",
   "execution_count": 72,
   "metadata": {},
   "outputs": [],
   "source": [
    "X = features\n",
    "y = combined[['evictionsSqrt']]"
   ]
  },
  {
   "cell_type": "code",
   "execution_count": 131,
   "metadata": {},
   "outputs": [],
   "source": [
    "X_train,X_test,y_train,y_test = train_test_split(X,y,test_size = 0.30)"
   ]
  },
  {
   "cell_type": "code",
   "execution_count": 74,
   "metadata": {},
   "outputs": [],
   "source": [
    "scaler = StandardScaler()"
   ]
  },
  {
   "cell_type": "code",
   "execution_count": 75,
   "metadata": {},
   "outputs": [
    {
     "data": {
      "text/plain": [
       "StandardScaler(copy=True, with_mean=True, with_std=True)"
      ]
     },
     "execution_count": 75,
     "metadata": {},
     "output_type": "execute_result"
    }
   ],
   "source": [
    "scaler.fit(X_train)"
   ]
  },
  {
   "cell_type": "code",
   "execution_count": 76,
   "metadata": {},
   "outputs": [],
   "source": [
    "X_train = scaler.transform(X_train)"
   ]
  },
  {
   "cell_type": "code",
   "execution_count": 77,
   "metadata": {},
   "outputs": [],
   "source": [
    "X_test = scaler.transform(X_test)"
   ]
  },
  {
   "cell_type": "code",
   "execution_count": 78,
   "metadata": {},
   "outputs": [],
   "source": [
    "y_train = np.array(y_train)"
   ]
  },
  {
   "cell_type": "code",
   "execution_count": 80,
   "metadata": {},
   "outputs": [],
   "source": [
    "y_test = np.array(y_test)"
   ]
  },
  {
   "cell_type": "code",
   "execution_count": 81,
   "metadata": {},
   "outputs": [],
   "source": [
    "regr = RandomForestRegressor()"
   ]
  },
  {
   "cell_type": "code",
   "execution_count": 82,
   "metadata": {},
   "outputs": [
    {
     "data": {
      "text/plain": [
       "(1782, 15)"
      ]
     },
     "execution_count": 82,
     "metadata": {},
     "output_type": "execute_result"
    }
   ],
   "source": [
    "X_train.shape"
   ]
  },
  {
   "cell_type": "code",
   "execution_count": 83,
   "metadata": {},
   "outputs": [
    {
     "data": {
      "text/plain": [
       "(1782, 1)"
      ]
     },
     "execution_count": 83,
     "metadata": {},
     "output_type": "execute_result"
    }
   ],
   "source": [
    "y_train.shape"
   ]
  },
  {
   "cell_type": "code",
   "execution_count": 84,
   "metadata": {},
   "outputs": [
    {
     "data": {
      "text/plain": [
       "(764, 15)"
      ]
     },
     "execution_count": 84,
     "metadata": {},
     "output_type": "execute_result"
    }
   ],
   "source": [
    "X_test.shape"
   ]
  },
  {
   "cell_type": "code",
   "execution_count": 85,
   "metadata": {},
   "outputs": [
    {
     "data": {
      "text/plain": [
       "(764, 1)"
      ]
     },
     "execution_count": 85,
     "metadata": {},
     "output_type": "execute_result"
    }
   ],
   "source": [
    "y_test.shape"
   ]
  },
  {
   "cell_type": "code",
   "execution_count": 86,
   "metadata": {},
   "outputs": [],
   "source": [
    "y_train = np.ravel(y_train)"
   ]
  },
  {
   "cell_type": "code",
   "execution_count": 87,
   "metadata": {},
   "outputs": [
    {
     "name": "stderr",
     "output_type": "stream",
     "text": [
      "C:\\Users\\lee68o\\AppData\\Local\\Continuum\\anaconda3\\lib\\site-packages\\sklearn\\ensemble\\forest.py:246: FutureWarning: The default value of n_estimators will change from 10 in version 0.20 to 100 in 0.22.\n",
      "  \"10 in version 0.20 to 100 in 0.22.\", FutureWarning)\n"
     ]
    },
    {
     "data": {
      "text/plain": [
       "RandomForestRegressor(bootstrap=True, criterion='mse', max_depth=None,\n",
       "           max_features='auto', max_leaf_nodes=None,\n",
       "           min_impurity_decrease=0.0, min_impurity_split=None,\n",
       "           min_samples_leaf=1, min_samples_split=2,\n",
       "           min_weight_fraction_leaf=0.0, n_estimators=10, n_jobs=None,\n",
       "           oob_score=False, random_state=None, verbose=0, warm_start=False)"
      ]
     },
     "execution_count": 87,
     "metadata": {},
     "output_type": "execute_result"
    }
   ],
   "source": [
    "regr.fit(X_train,y_train)"
   ]
  },
  {
   "cell_type": "code",
   "execution_count": 88,
   "metadata": {},
   "outputs": [],
   "source": [
    "predict = regr.predict(X_test)"
   ]
  },
  {
   "cell_type": "code",
   "execution_count": 90,
   "metadata": {},
   "outputs": [
    {
     "name": "stdout",
     "output_type": "stream",
     "text": [
      "0.9156515967131136\n"
     ]
    }
   ],
   "source": [
    "r2 = r2_score(y_true=y_test,y_pred=predict)\n",
    "print(r2)"
   ]
  },
  {
   "cell_type": "code",
   "execution_count": 92,
   "metadata": {},
   "outputs": [
    {
     "name": "stdout",
     "output_type": "stream",
     "text": [
      "4.860130026485459\n"
     ]
    }
   ],
   "source": [
    "RMSE = math.sqrt(mean_squared_error(y_true = y_test,y_pred = predict))\n",
    "print(RMSE)"
   ]
  },
  {
   "cell_type": "code",
   "execution_count": 94,
   "metadata": {},
   "outputs": [],
   "source": [
    "#rescale \n",
    "predict = np.square(predict)"
   ]
  },
  {
   "cell_type": "code",
   "execution_count": 95,
   "metadata": {},
   "outputs": [
    {
     "data": {
      "text/plain": [
       "0        810000.0\n",
       "1          1897.0\n",
       "2         18738.0\n",
       "3           118.0\n",
       "4         33215.0\n",
       "5            10.0\n",
       "6          2687.0\n",
       "7          4096.0\n",
       "8          3515.0\n",
       "9             0.0\n",
       "10         1384.0\n",
       "11         3164.0\n",
       "12            0.0\n",
       "13          118.0\n",
       "14        41816.0\n",
       "15        77779.0\n",
       "16         1575.0\n",
       "17           61.0\n",
       "18          915.0\n",
       "19       198211.0\n",
       "20         1055.0\n",
       "21            1.0\n",
       "22        59224.0\n",
       "23     27780910.0\n",
       "24            0.0\n",
       "25        16304.0\n",
       "26          850.0\n",
       "27        24414.0\n",
       "28            2.0\n",
       "29          167.0\n",
       "          ...    \n",
       "734       83521.0\n",
       "735           0.0\n",
       "736         374.0\n",
       "737           2.0\n",
       "738       13604.0\n",
       "739        8852.0\n",
       "740          13.0\n",
       "741          45.0\n",
       "742      500641.0\n",
       "743       14641.0\n",
       "744        1296.0\n",
       "745        3515.0\n",
       "746           0.0\n",
       "747          33.0\n",
       "748    18294097.0\n",
       "749       28561.0\n",
       "750        1477.0\n",
       "751         487.0\n",
       "752          33.0\n",
       "753        1477.0\n",
       "754         789.0\n",
       "755           0.0\n",
       "756       14641.0\n",
       "757           0.0\n",
       "758       54798.0\n",
       "759          23.0\n",
       "760      531441.0\n",
       "761           0.0\n",
       "762       17490.0\n",
       "763           0.0\n",
       "Length: 764, dtype: float64"
      ]
     },
     "execution_count": 95,
     "metadata": {},
     "output_type": "execute_result"
    }
   ],
   "source": [
    "pd.Series (np.floor(predict))"
   ]
  },
  {
   "cell_type": "code",
   "execution_count": 147,
   "metadata": {},
   "outputs": [],
   "source": [
    "#load Test file\n",
    "test = pd.read_csv(r'C:\\Users\\Capstone\\test_values.csv')"
   ]
  },
  {
   "cell_type": "code",
   "execution_count": 148,
   "metadata": {},
   "outputs": [
    {
     "data": {
      "text/plain": [
       "row_id                                        False\n",
       "county_code                                   False\n",
       "year                                          False\n",
       "state                                         False\n",
       "population                                    False\n",
       "renter_occupied_households                    False\n",
       "pct_renter_occupied                           False\n",
       "median_gross_rent                              True\n",
       "median_household_income                       False\n",
       "median_property_value                         False\n",
       "rent_burden                                   False\n",
       "pct_white                                     False\n",
       "pct_af_am                                     False\n",
       "pct_hispanic                                  False\n",
       "pct_am_ind                                    False\n",
       "pct_asian                                     False\n",
       "pct_nh_pi                                     False\n",
       "pct_multiple                                  False\n",
       "pct_other                                     False\n",
       "poverty_rate                                  False\n",
       "rucc                                          False\n",
       "urban_influence                               False\n",
       "economic_typology                             False\n",
       "pct_civilian_labor                            False\n",
       "pct_unemployment                              False\n",
       "pct_uninsured_adults                          False\n",
       "pct_uninsured_children                        False\n",
       "pct_adult_obesity                             False\n",
       "pct_adult_smoking                              True\n",
       "pct_diabetes                                  False\n",
       "pct_low_birthweight                            True\n",
       "pct_excessive_drinking                         True\n",
       "pct_physical_inactivity                       False\n",
       "air_pollution_particulate_matter_value         True\n",
       "homicides_per_100k                             True\n",
       "motor_vehicle_crash_deaths_per_100k            True\n",
       "heart_disease_mortality_per_100k              False\n",
       "pop_per_dentist                                True\n",
       "pop_per_primary_care_physician                 True\n",
       "pct_female                                    False\n",
       "pct_below_18_years_of_age                     False\n",
       "pct_aged_65_years_and_older                   False\n",
       "pct_adults_less_than_a_high_school_diploma    False\n",
       "pct_adults_with_high_school_diploma           False\n",
       "pct_adults_with_some_college                  False\n",
       "pct_adults_bachelors_or_higher                False\n",
       "birth_rate_per_1k                             False\n",
       "death_rate_per_1k                             False\n",
       "dtype: bool"
      ]
     },
     "execution_count": 148,
     "metadata": {},
     "output_type": "execute_result"
    }
   ],
   "source": [
    "test.isna().any()"
   ]
  },
  {
   "cell_type": "code",
   "execution_count": 149,
   "metadata": {},
   "outputs": [],
   "source": [
    "# Fill up NA values with Mean\n",
    "test['median_gross_rent'].fillna(combined['median_gross_rent'].mean(),inplace=True)"
   ]
  },
  {
   "cell_type": "code",
   "execution_count": 150,
   "metadata": {},
   "outputs": [],
   "source": [
    "#drop columns with NA values\n",
    "test.drop(['pct_adult_smoking',\n",
    "'pct_low_birthweight',\n",
    "'pct_excessive_drinking',\n",
    "'air_pollution_particulate_matter_value',\n",
    "'homicides_per_100k',\n",
    "'motor_vehicle_crash_deaths_per_100k',\n",
    "'pop_per_dentist',\n",
    "'pop_per_primary_care_physician'],axis=1,inplace=True)"
   ]
  },
  {
   "cell_type": "code",
   "execution_count": 151,
   "metadata": {},
   "outputs": [],
   "source": [
    "features = test[predictors]"
   ]
  },
  {
   "cell_type": "code",
   "execution_count": 152,
   "metadata": {},
   "outputs": [],
   "source": [
    "X = features"
   ]
  },
  {
   "cell_type": "code",
   "execution_count": 153,
   "metadata": {},
   "outputs": [],
   "source": [
    "X = np.array(X)"
   ]
  },
  {
   "cell_type": "code",
   "execution_count": 154,
   "metadata": {},
   "outputs": [],
   "source": [
    "X = scaler.transform(X)"
   ]
  },
  {
   "cell_type": "code",
   "execution_count": 155,
   "metadata": {},
   "outputs": [
    {
     "ename": "ValueError",
     "evalue": "Number of features of the model must match the input. Model n_features is 20 and input n_features is 15 ",
     "output_type": "error",
     "traceback": [
      "\u001b[1;31m---------------------------------------------------------------------------\u001b[0m",
      "\u001b[1;31mValueError\u001b[0m                                Traceback (most recent call last)",
      "\u001b[1;32m<ipython-input-155-375ec873c51b>\u001b[0m in \u001b[0;36m<module>\u001b[1;34m()\u001b[0m\n\u001b[1;32m----> 1\u001b[1;33m \u001b[0my\u001b[0m \u001b[1;33m=\u001b[0m \u001b[0mregr\u001b[0m\u001b[1;33m.\u001b[0m\u001b[0mpredict\u001b[0m\u001b[1;33m(\u001b[0m\u001b[0mX\u001b[0m\u001b[1;33m)\u001b[0m\u001b[1;33m\u001b[0m\u001b[0m\n\u001b[0m",
      "\u001b[1;32m~\\AppData\\Local\\Continuum\\anaconda3\\lib\\site-packages\\sklearn\\ensemble\\forest.py\u001b[0m in \u001b[0;36mpredict\u001b[1;34m(self, X)\u001b[0m\n\u001b[0;32m    686\u001b[0m         \u001b[0mcheck_is_fitted\u001b[0m\u001b[1;33m(\u001b[0m\u001b[0mself\u001b[0m\u001b[1;33m,\u001b[0m \u001b[1;34m'estimators_'\u001b[0m\u001b[1;33m)\u001b[0m\u001b[1;33m\u001b[0m\u001b[0m\n\u001b[0;32m    687\u001b[0m         \u001b[1;31m# Check data\u001b[0m\u001b[1;33m\u001b[0m\u001b[1;33m\u001b[0m\u001b[0m\n\u001b[1;32m--> 688\u001b[1;33m         \u001b[0mX\u001b[0m \u001b[1;33m=\u001b[0m \u001b[0mself\u001b[0m\u001b[1;33m.\u001b[0m\u001b[0m_validate_X_predict\u001b[0m\u001b[1;33m(\u001b[0m\u001b[0mX\u001b[0m\u001b[1;33m)\u001b[0m\u001b[1;33m\u001b[0m\u001b[0m\n\u001b[0m\u001b[0;32m    689\u001b[0m \u001b[1;33m\u001b[0m\u001b[0m\n\u001b[0;32m    690\u001b[0m         \u001b[1;31m# Assign chunk of trees to jobs\u001b[0m\u001b[1;33m\u001b[0m\u001b[1;33m\u001b[0m\u001b[0m\n",
      "\u001b[1;32m~\\AppData\\Local\\Continuum\\anaconda3\\lib\\site-packages\\sklearn\\ensemble\\forest.py\u001b[0m in \u001b[0;36m_validate_X_predict\u001b[1;34m(self, X)\u001b[0m\n\u001b[0;32m    360\u001b[0m                                  \"call `fit` before exploiting the model.\")\n\u001b[0;32m    361\u001b[0m \u001b[1;33m\u001b[0m\u001b[0m\n\u001b[1;32m--> 362\u001b[1;33m         \u001b[1;32mreturn\u001b[0m \u001b[0mself\u001b[0m\u001b[1;33m.\u001b[0m\u001b[0mestimators_\u001b[0m\u001b[1;33m[\u001b[0m\u001b[1;36m0\u001b[0m\u001b[1;33m]\u001b[0m\u001b[1;33m.\u001b[0m\u001b[0m_validate_X_predict\u001b[0m\u001b[1;33m(\u001b[0m\u001b[0mX\u001b[0m\u001b[1;33m,\u001b[0m \u001b[0mcheck_input\u001b[0m\u001b[1;33m=\u001b[0m\u001b[1;32mTrue\u001b[0m\u001b[1;33m)\u001b[0m\u001b[1;33m\u001b[0m\u001b[0m\n\u001b[0m\u001b[0;32m    363\u001b[0m \u001b[1;33m\u001b[0m\u001b[0m\n\u001b[0;32m    364\u001b[0m     \u001b[1;33m@\u001b[0m\u001b[0mproperty\u001b[0m\u001b[1;33m\u001b[0m\u001b[0m\n",
      "\u001b[1;32m~\\AppData\\Local\\Continuum\\anaconda3\\lib\\site-packages\\sklearn\\tree\\tree.py\u001b[0m in \u001b[0;36m_validate_X_predict\u001b[1;34m(self, X, check_input)\u001b[0m\n\u001b[0;32m    386\u001b[0m                              \u001b[1;34m\"match the input. Model n_features is %s and \"\u001b[0m\u001b[1;33m\u001b[0m\u001b[0m\n\u001b[0;32m    387\u001b[0m                              \u001b[1;34m\"input n_features is %s \"\u001b[0m\u001b[1;33m\u001b[0m\u001b[0m\n\u001b[1;32m--> 388\u001b[1;33m                              % (self.n_features_, n_features))\n\u001b[0m\u001b[0;32m    389\u001b[0m \u001b[1;33m\u001b[0m\u001b[0m\n\u001b[0;32m    390\u001b[0m         \u001b[1;32mreturn\u001b[0m \u001b[0mX\u001b[0m\u001b[1;33m\u001b[0m\u001b[0m\n",
      "\u001b[1;31mValueError\u001b[0m: Number of features of the model must match the input. Model n_features is 20 and input n_features is 15 "
     ]
    }
   ],
   "source": [
    "y = regr.predict(X)"
   ]
  },
  {
   "cell_type": "code",
   "execution_count": 156,
   "metadata": {},
   "outputs": [],
   "source": [
    "prediction = np.square(y)"
   ]
  },
  {
   "cell_type": "code",
   "execution_count": 157,
   "metadata": {},
   "outputs": [
    {
     "data": {
      "text/html": [
       "<div>\n",
       "<style scoped>\n",
       "    .dataframe tbody tr th:only-of-type {\n",
       "        vertical-align: middle;\n",
       "    }\n",
       "\n",
       "    .dataframe tbody tr th {\n",
       "        vertical-align: top;\n",
       "    }\n",
       "\n",
       "    .dataframe thead th {\n",
       "        text-align: right;\n",
       "    }\n",
       "</style>\n",
       "<table border=\"1\" class=\"dataframe\">\n",
       "  <thead>\n",
       "    <tr style=\"text-align: right;\">\n",
       "      <th></th>\n",
       "      <th>evictionsSqrt</th>\n",
       "    </tr>\n",
       "  </thead>\n",
       "  <tbody>\n",
       "    <tr>\n",
       "      <th>0</th>\n",
       "      <td>676.0</td>\n",
       "    </tr>\n",
       "    <tr>\n",
       "      <th>1</th>\n",
       "      <td>0.0</td>\n",
       "    </tr>\n",
       "    <tr>\n",
       "      <th>2</th>\n",
       "      <td>25.0</td>\n",
       "    </tr>\n",
       "    <tr>\n",
       "      <th>3</th>\n",
       "      <td>841.0</td>\n",
       "    </tr>\n",
       "    <tr>\n",
       "      <th>4</th>\n",
       "      <td>1.0</td>\n",
       "    </tr>\n",
       "    <tr>\n",
       "      <th>5</th>\n",
       "      <td>4096.0</td>\n",
       "    </tr>\n",
       "    <tr>\n",
       "      <th>6</th>\n",
       "      <td>16.0</td>\n",
       "    </tr>\n",
       "    <tr>\n",
       "      <th>7</th>\n",
       "      <td>225.0</td>\n",
       "    </tr>\n",
       "    <tr>\n",
       "      <th>8</th>\n",
       "      <td>81.0</td>\n",
       "    </tr>\n",
       "    <tr>\n",
       "      <th>9</th>\n",
       "      <td>4.0</td>\n",
       "    </tr>\n",
       "  </tbody>\n",
       "</table>\n",
       "</div>"
      ],
      "text/plain": [
       "   evictionsSqrt\n",
       "0          676.0\n",
       "1            0.0\n",
       "2           25.0\n",
       "3          841.0\n",
       "4            1.0\n",
       "5         4096.0\n",
       "6           16.0\n",
       "7          225.0\n",
       "8           81.0\n",
       "9            4.0"
      ]
     },
     "execution_count": 157,
     "metadata": {},
     "output_type": "execute_result"
    }
   ],
   "source": [
    "prediction [:10]"
   ]
  },
  {
   "cell_type": "code",
   "execution_count": 158,
   "metadata": {},
   "outputs": [
    {
     "ename": "ValueError",
     "evalue": "Wrong number of items passed 1, placement implies 2546",
     "output_type": "error",
     "traceback": [
      "\u001b[1;31m---------------------------------------------------------------------------\u001b[0m",
      "\u001b[1;31mValueError\u001b[0m                                Traceback (most recent call last)",
      "\u001b[1;32m<ipython-input-158-6a817d7a93f7>\u001b[0m in \u001b[0;36m<module>\u001b[1;34m()\u001b[0m\n\u001b[1;32m----> 1\u001b[1;33m \u001b[0mprediction\u001b[0m \u001b[1;33m=\u001b[0m \u001b[0mpd\u001b[0m\u001b[1;33m.\u001b[0m\u001b[0mSeries\u001b[0m\u001b[1;33m(\u001b[0m\u001b[0mnp\u001b[0m\u001b[1;33m.\u001b[0m\u001b[0mfloor\u001b[0m\u001b[1;33m(\u001b[0m\u001b[0mprediction\u001b[0m\u001b[1;33m)\u001b[0m\u001b[1;33m)\u001b[0m\u001b[1;33m\u001b[0m\u001b[0m\n\u001b[0m",
      "\u001b[1;32m~\\AppData\\Local\\Continuum\\anaconda3\\lib\\site-packages\\pandas\\core\\series.py\u001b[0m in \u001b[0;36m__init__\u001b[1;34m(self, data, index, dtype, name, copy, fastpath)\u001b[0m\n\u001b[0;32m    275\u001b[0m                                        raise_cast_failure=True)\n\u001b[0;32m    276\u001b[0m \u001b[1;33m\u001b[0m\u001b[0m\n\u001b[1;32m--> 277\u001b[1;33m                 \u001b[0mdata\u001b[0m \u001b[1;33m=\u001b[0m \u001b[0mSingleBlockManager\u001b[0m\u001b[1;33m(\u001b[0m\u001b[0mdata\u001b[0m\u001b[1;33m,\u001b[0m \u001b[0mindex\u001b[0m\u001b[1;33m,\u001b[0m \u001b[0mfastpath\u001b[0m\u001b[1;33m=\u001b[0m\u001b[1;32mTrue\u001b[0m\u001b[1;33m)\u001b[0m\u001b[1;33m\u001b[0m\u001b[0m\n\u001b[0m\u001b[0;32m    278\u001b[0m \u001b[1;33m\u001b[0m\u001b[0m\n\u001b[0;32m    279\u001b[0m         \u001b[0mgeneric\u001b[0m\u001b[1;33m.\u001b[0m\u001b[0mNDFrame\u001b[0m\u001b[1;33m.\u001b[0m\u001b[0m__init__\u001b[0m\u001b[1;33m(\u001b[0m\u001b[0mself\u001b[0m\u001b[1;33m,\u001b[0m \u001b[0mdata\u001b[0m\u001b[1;33m,\u001b[0m \u001b[0mfastpath\u001b[0m\u001b[1;33m=\u001b[0m\u001b[1;32mTrue\u001b[0m\u001b[1;33m)\u001b[0m\u001b[1;33m\u001b[0m\u001b[0m\n",
      "\u001b[1;32m~\\AppData\\Local\\Continuum\\anaconda3\\lib\\site-packages\\pandas\\core\\internals.py\u001b[0m in \u001b[0;36m__init__\u001b[1;34m(self, block, axis, do_integrity_check, fastpath)\u001b[0m\n\u001b[0;32m   4675\u001b[0m \u001b[1;33m\u001b[0m\u001b[0m\n\u001b[0;32m   4676\u001b[0m         \u001b[1;32mif\u001b[0m \u001b[1;32mnot\u001b[0m \u001b[0misinstance\u001b[0m\u001b[1;33m(\u001b[0m\u001b[0mblock\u001b[0m\u001b[1;33m,\u001b[0m \u001b[0mBlock\u001b[0m\u001b[1;33m)\u001b[0m\u001b[1;33m:\u001b[0m\u001b[1;33m\u001b[0m\u001b[0m\n\u001b[1;32m-> 4677\u001b[1;33m             \u001b[0mblock\u001b[0m \u001b[1;33m=\u001b[0m \u001b[0mmake_block\u001b[0m\u001b[1;33m(\u001b[0m\u001b[0mblock\u001b[0m\u001b[1;33m,\u001b[0m \u001b[0mplacement\u001b[0m\u001b[1;33m=\u001b[0m\u001b[0mslice\u001b[0m\u001b[1;33m(\u001b[0m\u001b[1;36m0\u001b[0m\u001b[1;33m,\u001b[0m \u001b[0mlen\u001b[0m\u001b[1;33m(\u001b[0m\u001b[0maxis\u001b[0m\u001b[1;33m)\u001b[0m\u001b[1;33m)\u001b[0m\u001b[1;33m,\u001b[0m \u001b[0mndim\u001b[0m\u001b[1;33m=\u001b[0m\u001b[1;36m1\u001b[0m\u001b[1;33m)\u001b[0m\u001b[1;33m\u001b[0m\u001b[0m\n\u001b[0m\u001b[0;32m   4678\u001b[0m \u001b[1;33m\u001b[0m\u001b[0m\n\u001b[0;32m   4679\u001b[0m         \u001b[0mself\u001b[0m\u001b[1;33m.\u001b[0m\u001b[0mblocks\u001b[0m \u001b[1;33m=\u001b[0m \u001b[1;33m[\u001b[0m\u001b[0mblock\u001b[0m\u001b[1;33m]\u001b[0m\u001b[1;33m\u001b[0m\u001b[0m\n",
      "\u001b[1;32m~\\AppData\\Local\\Continuum\\anaconda3\\lib\\site-packages\\pandas\\core\\internals.py\u001b[0m in \u001b[0;36mmake_block\u001b[1;34m(values, placement, klass, ndim, dtype, fastpath)\u001b[0m\n\u001b[0;32m   3203\u001b[0m                      placement=placement, dtype=dtype)\n\u001b[0;32m   3204\u001b[0m \u001b[1;33m\u001b[0m\u001b[0m\n\u001b[1;32m-> 3205\u001b[1;33m     \u001b[1;32mreturn\u001b[0m \u001b[0mklass\u001b[0m\u001b[1;33m(\u001b[0m\u001b[0mvalues\u001b[0m\u001b[1;33m,\u001b[0m \u001b[0mndim\u001b[0m\u001b[1;33m=\u001b[0m\u001b[0mndim\u001b[0m\u001b[1;33m,\u001b[0m \u001b[0mplacement\u001b[0m\u001b[1;33m=\u001b[0m\u001b[0mplacement\u001b[0m\u001b[1;33m)\u001b[0m\u001b[1;33m\u001b[0m\u001b[0m\n\u001b[0m\u001b[0;32m   3206\u001b[0m \u001b[1;33m\u001b[0m\u001b[0m\n\u001b[0;32m   3207\u001b[0m \u001b[1;31m# TODO: flexible with index=None and/or items=None\u001b[0m\u001b[1;33m\u001b[0m\u001b[1;33m\u001b[0m\u001b[0m\n",
      "\u001b[1;32m~\\AppData\\Local\\Continuum\\anaconda3\\lib\\site-packages\\pandas\\core\\internals.py\u001b[0m in \u001b[0;36m__init__\u001b[1;34m(self, values, placement, ndim)\u001b[0m\n\u001b[0;32m   2301\u001b[0m \u001b[1;33m\u001b[0m\u001b[0m\n\u001b[0;32m   2302\u001b[0m         super(ObjectBlock, self).__init__(values, ndim=ndim,\n\u001b[1;32m-> 2303\u001b[1;33m                                           placement=placement)\n\u001b[0m\u001b[0;32m   2304\u001b[0m \u001b[1;33m\u001b[0m\u001b[0m\n\u001b[0;32m   2305\u001b[0m     \u001b[1;33m@\u001b[0m\u001b[0mproperty\u001b[0m\u001b[1;33m\u001b[0m\u001b[0m\n",
      "\u001b[1;32m~\\AppData\\Local\\Continuum\\anaconda3\\lib\\site-packages\\pandas\\core\\internals.py\u001b[0m in \u001b[0;36m__init__\u001b[1;34m(self, values, placement, ndim)\u001b[0m\n\u001b[0;32m    123\u001b[0m             raise ValueError(\n\u001b[0;32m    124\u001b[0m                 \u001b[1;34m'Wrong number of items passed {val}, placement implies '\u001b[0m\u001b[1;33m\u001b[0m\u001b[0m\n\u001b[1;32m--> 125\u001b[1;33m                 '{mgr}'.format(val=len(self.values), mgr=len(self.mgr_locs)))\n\u001b[0m\u001b[0;32m    126\u001b[0m \u001b[1;33m\u001b[0m\u001b[0m\n\u001b[0;32m    127\u001b[0m     \u001b[1;32mdef\u001b[0m \u001b[0m_check_ndim\u001b[0m\u001b[1;33m(\u001b[0m\u001b[0mself\u001b[0m\u001b[1;33m,\u001b[0m \u001b[0mvalues\u001b[0m\u001b[1;33m,\u001b[0m \u001b[0mndim\u001b[0m\u001b[1;33m)\u001b[0m\u001b[1;33m:\u001b[0m\u001b[1;33m\u001b[0m\u001b[0m\n",
      "\u001b[1;31mValueError\u001b[0m: Wrong number of items passed 1, placement implies 2546"
     ]
    }
   ],
   "source": [
    "prediction = pd.Series(np.floor(prediction))"
   ]
  },
  {
   "cell_type": "code",
   "execution_count": 159,
   "metadata": {},
   "outputs": [
    {
     "data": {
      "text/html": [
       "<div>\n",
       "<style scoped>\n",
       "    .dataframe tbody tr th:only-of-type {\n",
       "        vertical-align: middle;\n",
       "    }\n",
       "\n",
       "    .dataframe tbody tr th {\n",
       "        vertical-align: top;\n",
       "    }\n",
       "\n",
       "    .dataframe thead th {\n",
       "        text-align: right;\n",
       "    }\n",
       "</style>\n",
       "<table border=\"1\" class=\"dataframe\">\n",
       "  <thead>\n",
       "    <tr style=\"text-align: right;\">\n",
       "      <th></th>\n",
       "      <th>evictionsSqrt</th>\n",
       "    </tr>\n",
       "  </thead>\n",
       "  <tbody>\n",
       "    <tr>\n",
       "      <th>0</th>\n",
       "      <td>676.0</td>\n",
       "    </tr>\n",
       "    <tr>\n",
       "      <th>1</th>\n",
       "      <td>0.0</td>\n",
       "    </tr>\n",
       "    <tr>\n",
       "      <th>2</th>\n",
       "      <td>25.0</td>\n",
       "    </tr>\n",
       "    <tr>\n",
       "      <th>3</th>\n",
       "      <td>841.0</td>\n",
       "    </tr>\n",
       "    <tr>\n",
       "      <th>4</th>\n",
       "      <td>1.0</td>\n",
       "    </tr>\n",
       "  </tbody>\n",
       "</table>\n",
       "</div>"
      ],
      "text/plain": [
       "   evictionsSqrt\n",
       "0          676.0\n",
       "1            0.0\n",
       "2           25.0\n",
       "3          841.0\n",
       "4            1.0"
      ]
     },
     "execution_count": 159,
     "metadata": {},
     "output_type": "execute_result"
    }
   ],
   "source": [
    "prediction [:5]"
   ]
  },
  {
   "cell_type": "code",
   "execution_count": 160,
   "metadata": {},
   "outputs": [
    {
     "ename": "AttributeError",
     "evalue": "'DataFrame' object has no attribute 'economic_typology'",
     "output_type": "error",
     "traceback": [
      "\u001b[1;31m---------------------------------------------------------------------------\u001b[0m",
      "\u001b[1;31mAttributeError\u001b[0m                            Traceback (most recent call last)",
      "\u001b[1;32m<ipython-input-160-be432bc74480>\u001b[0m in \u001b[0;36m<module>\u001b[1;34m()\u001b[0m\n\u001b[1;32m----> 1\u001b[1;33m \u001b[0mcombined\u001b[0m\u001b[1;33m.\u001b[0m\u001b[0meconomic_typology\u001b[0m\u001b[1;33m.\u001b[0m\u001b[0mvalue_counts\u001b[0m\u001b[1;33m(\u001b[0m\u001b[1;33m)\u001b[0m\u001b[1;33m\u001b[0m\u001b[0m\n\u001b[0m",
      "\u001b[1;32m~\\AppData\\Local\\Continuum\\anaconda3\\lib\\site-packages\\pandas\\core\\generic.py\u001b[0m in \u001b[0;36m__getattr__\u001b[1;34m(self, name)\u001b[0m\n\u001b[0;32m   4374\u001b[0m             \u001b[1;32mif\u001b[0m \u001b[0mself\u001b[0m\u001b[1;33m.\u001b[0m\u001b[0m_info_axis\u001b[0m\u001b[1;33m.\u001b[0m\u001b[0m_can_hold_identifiers_and_holds_name\u001b[0m\u001b[1;33m(\u001b[0m\u001b[0mname\u001b[0m\u001b[1;33m)\u001b[0m\u001b[1;33m:\u001b[0m\u001b[1;33m\u001b[0m\u001b[0m\n\u001b[0;32m   4375\u001b[0m                 \u001b[1;32mreturn\u001b[0m \u001b[0mself\u001b[0m\u001b[1;33m[\u001b[0m\u001b[0mname\u001b[0m\u001b[1;33m]\u001b[0m\u001b[1;33m\u001b[0m\u001b[0m\n\u001b[1;32m-> 4376\u001b[1;33m             \u001b[1;32mreturn\u001b[0m \u001b[0mobject\u001b[0m\u001b[1;33m.\u001b[0m\u001b[0m__getattribute__\u001b[0m\u001b[1;33m(\u001b[0m\u001b[0mself\u001b[0m\u001b[1;33m,\u001b[0m \u001b[0mname\u001b[0m\u001b[1;33m)\u001b[0m\u001b[1;33m\u001b[0m\u001b[0m\n\u001b[0m\u001b[0;32m   4377\u001b[0m \u001b[1;33m\u001b[0m\u001b[0m\n\u001b[0;32m   4378\u001b[0m     \u001b[1;32mdef\u001b[0m \u001b[0m__setattr__\u001b[0m\u001b[1;33m(\u001b[0m\u001b[0mself\u001b[0m\u001b[1;33m,\u001b[0m \u001b[0mname\u001b[0m\u001b[1;33m,\u001b[0m \u001b[0mvalue\u001b[0m\u001b[1;33m)\u001b[0m\u001b[1;33m:\u001b[0m\u001b[1;33m\u001b[0m\u001b[0m\n",
      "\u001b[1;31mAttributeError\u001b[0m: 'DataFrame' object has no attribute 'economic_typology'"
     ]
    }
   ],
   "source": [
    "combined.economic_typology.value_counts()"
   ]
  },
  {
   "cell_type": "code",
   "execution_count": 161,
   "metadata": {},
   "outputs": [],
   "source": [
    "mydata = combined.copy()"
   ]
  },
  {
   "cell_type": "code",
   "execution_count": 162,
   "metadata": {},
   "outputs": [
    {
     "data": {
      "text/plain": [
       "(2546, 46)"
      ]
     },
     "execution_count": 162,
     "metadata": {},
     "output_type": "execute_result"
    }
   ],
   "source": [
    "mydata.shape"
   ]
  },
  {
   "cell_type": "code",
   "execution_count": 163,
   "metadata": {},
   "outputs": [
    {
     "data": {
      "text/plain": [
       "Index(['row_id', 'county_code', 'year', 'state', 'population',\n",
       "       'renter_occupied_households', 'pct_renter_occupied',\n",
       "       'median_gross_rent', 'median_household_income', 'median_property_value',\n",
       "       'rent_burden', 'pct_white', 'pct_af_am', 'pct_hispanic', 'pct_am_ind',\n",
       "       'pct_asian', 'pct_nh_pi', 'pct_multiple', 'pct_other', 'poverty_rate',\n",
       "       'rucc', 'urban_influence', 'pct_civilian_labor', 'pct_unemployment',\n",
       "       'pct_uninsured_adults', 'pct_uninsured_children', 'pct_adult_obesity',\n",
       "       'pct_diabetes', 'pct_physical_inactivity',\n",
       "       'heart_disease_mortality_per_100k', 'pct_female',\n",
       "       'pct_below_18_years_of_age', 'pct_aged_65_years_and_older',\n",
       "       'pct_adults_less_than_a_high_school_diploma',\n",
       "       'pct_adults_with_high_school_diploma', 'pct_adults_with_some_college',\n",
       "       'pct_adults_bachelors_or_higher', 'birth_rate_per_1k',\n",
       "       'death_rate_per_1k', 'evictions', 'evictionsSqrt',\n",
       "       'economic_typology_Federal/State government-dependent',\n",
       "       'economic_typology_Manufacturing-dependent',\n",
       "       'economic_typology_Mining-dependent',\n",
       "       'economic_typology_Nonspecialized', 'economic_typology_Recreation'],\n",
       "      dtype='object')"
      ]
     },
     "execution_count": 163,
     "metadata": {},
     "output_type": "execute_result"
    }
   ],
   "source": [
    "mydata.columns"
   ]
  },
  {
   "cell_type": "code",
   "execution_count": 164,
   "metadata": {},
   "outputs": [
    {
     "ename": "KeyError",
     "evalue": "\"['economic_typology'] not in index\"",
     "output_type": "error",
     "traceback": [
      "\u001b[1;31m---------------------------------------------------------------------------\u001b[0m",
      "\u001b[1;31mKeyError\u001b[0m                                  Traceback (most recent call last)",
      "\u001b[1;32m<ipython-input-164-bb4cb0898c82>\u001b[0m in \u001b[0;36m<module>\u001b[1;34m()\u001b[0m\n\u001b[1;32m----> 1\u001b[1;33m \u001b[0mcombined\u001b[0m \u001b[1;33m=\u001b[0m \u001b[0mpd\u001b[0m\u001b[1;33m.\u001b[0m\u001b[0mget_dummies\u001b[0m\u001b[1;33m(\u001b[0m\u001b[0mcombined\u001b[0m\u001b[1;33m,\u001b[0m\u001b[0mcolumns\u001b[0m\u001b[1;33m=\u001b[0m\u001b[1;33m[\u001b[0m\u001b[1;34m'economic_typology'\u001b[0m\u001b[1;33m]\u001b[0m\u001b[1;33m,\u001b[0m\u001b[0mdrop_first\u001b[0m\u001b[1;33m=\u001b[0m\u001b[1;32mTrue\u001b[0m\u001b[1;33m)\u001b[0m\u001b[1;33m\u001b[0m\u001b[0m\n\u001b[0m",
      "\u001b[1;32m~\\AppData\\Local\\Continuum\\anaconda3\\lib\\site-packages\\pandas\\core\\reshape\\reshape.py\u001b[0m in \u001b[0;36mget_dummies\u001b[1;34m(data, prefix, prefix_sep, dummy_na, columns, sparse, drop_first, dtype)\u001b[0m\n\u001b[0;32m    842\u001b[0m                 include=dtypes_to_encode)\n\u001b[0;32m    843\u001b[0m         \u001b[1;32melse\u001b[0m\u001b[1;33m:\u001b[0m\u001b[1;33m\u001b[0m\u001b[0m\n\u001b[1;32m--> 844\u001b[1;33m             \u001b[0mdata_to_encode\u001b[0m \u001b[1;33m=\u001b[0m \u001b[0mdata\u001b[0m\u001b[1;33m[\u001b[0m\u001b[0mcolumns\u001b[0m\u001b[1;33m]\u001b[0m\u001b[1;33m\u001b[0m\u001b[0m\n\u001b[0m\u001b[0;32m    845\u001b[0m \u001b[1;33m\u001b[0m\u001b[0m\n\u001b[0;32m    846\u001b[0m         \u001b[1;31m# validate prefixes and separator to avoid silently dropping cols\u001b[0m\u001b[1;33m\u001b[0m\u001b[1;33m\u001b[0m\u001b[0m\n",
      "\u001b[1;32m~\\AppData\\Local\\Continuum\\anaconda3\\lib\\site-packages\\pandas\\core\\frame.py\u001b[0m in \u001b[0;36m__getitem__\u001b[1;34m(self, key)\u001b[0m\n\u001b[0;32m   2680\u001b[0m         \u001b[1;32mif\u001b[0m \u001b[0misinstance\u001b[0m\u001b[1;33m(\u001b[0m\u001b[0mkey\u001b[0m\u001b[1;33m,\u001b[0m \u001b[1;33m(\u001b[0m\u001b[0mSeries\u001b[0m\u001b[1;33m,\u001b[0m \u001b[0mnp\u001b[0m\u001b[1;33m.\u001b[0m\u001b[0mndarray\u001b[0m\u001b[1;33m,\u001b[0m \u001b[0mIndex\u001b[0m\u001b[1;33m,\u001b[0m \u001b[0mlist\u001b[0m\u001b[1;33m)\u001b[0m\u001b[1;33m)\u001b[0m\u001b[1;33m:\u001b[0m\u001b[1;33m\u001b[0m\u001b[0m\n\u001b[0;32m   2681\u001b[0m             \u001b[1;31m# either boolean or fancy integer index\u001b[0m\u001b[1;33m\u001b[0m\u001b[1;33m\u001b[0m\u001b[0m\n\u001b[1;32m-> 2682\u001b[1;33m             \u001b[1;32mreturn\u001b[0m \u001b[0mself\u001b[0m\u001b[1;33m.\u001b[0m\u001b[0m_getitem_array\u001b[0m\u001b[1;33m(\u001b[0m\u001b[0mkey\u001b[0m\u001b[1;33m)\u001b[0m\u001b[1;33m\u001b[0m\u001b[0m\n\u001b[0m\u001b[0;32m   2683\u001b[0m         \u001b[1;32melif\u001b[0m \u001b[0misinstance\u001b[0m\u001b[1;33m(\u001b[0m\u001b[0mkey\u001b[0m\u001b[1;33m,\u001b[0m \u001b[0mDataFrame\u001b[0m\u001b[1;33m)\u001b[0m\u001b[1;33m:\u001b[0m\u001b[1;33m\u001b[0m\u001b[0m\n\u001b[0;32m   2684\u001b[0m             \u001b[1;32mreturn\u001b[0m \u001b[0mself\u001b[0m\u001b[1;33m.\u001b[0m\u001b[0m_getitem_frame\u001b[0m\u001b[1;33m(\u001b[0m\u001b[0mkey\u001b[0m\u001b[1;33m)\u001b[0m\u001b[1;33m\u001b[0m\u001b[0m\n",
      "\u001b[1;32m~\\AppData\\Local\\Continuum\\anaconda3\\lib\\site-packages\\pandas\\core\\frame.py\u001b[0m in \u001b[0;36m_getitem_array\u001b[1;34m(self, key)\u001b[0m\n\u001b[0;32m   2724\u001b[0m             \u001b[1;32mreturn\u001b[0m \u001b[0mself\u001b[0m\u001b[1;33m.\u001b[0m\u001b[0m_take\u001b[0m\u001b[1;33m(\u001b[0m\u001b[0mindexer\u001b[0m\u001b[1;33m,\u001b[0m \u001b[0maxis\u001b[0m\u001b[1;33m=\u001b[0m\u001b[1;36m0\u001b[0m\u001b[1;33m)\u001b[0m\u001b[1;33m\u001b[0m\u001b[0m\n\u001b[0;32m   2725\u001b[0m         \u001b[1;32melse\u001b[0m\u001b[1;33m:\u001b[0m\u001b[1;33m\u001b[0m\u001b[0m\n\u001b[1;32m-> 2726\u001b[1;33m             \u001b[0mindexer\u001b[0m \u001b[1;33m=\u001b[0m \u001b[0mself\u001b[0m\u001b[1;33m.\u001b[0m\u001b[0mloc\u001b[0m\u001b[1;33m.\u001b[0m\u001b[0m_convert_to_indexer\u001b[0m\u001b[1;33m(\u001b[0m\u001b[0mkey\u001b[0m\u001b[1;33m,\u001b[0m \u001b[0maxis\u001b[0m\u001b[1;33m=\u001b[0m\u001b[1;36m1\u001b[0m\u001b[1;33m)\u001b[0m\u001b[1;33m\u001b[0m\u001b[0m\n\u001b[0m\u001b[0;32m   2727\u001b[0m             \u001b[1;32mreturn\u001b[0m \u001b[0mself\u001b[0m\u001b[1;33m.\u001b[0m\u001b[0m_take\u001b[0m\u001b[1;33m(\u001b[0m\u001b[0mindexer\u001b[0m\u001b[1;33m,\u001b[0m \u001b[0maxis\u001b[0m\u001b[1;33m=\u001b[0m\u001b[1;36m1\u001b[0m\u001b[1;33m)\u001b[0m\u001b[1;33m\u001b[0m\u001b[0m\n\u001b[0;32m   2728\u001b[0m \u001b[1;33m\u001b[0m\u001b[0m\n",
      "\u001b[1;32m~\\AppData\\Local\\Continuum\\anaconda3\\lib\\site-packages\\pandas\\core\\indexing.py\u001b[0m in \u001b[0;36m_convert_to_indexer\u001b[1;34m(self, obj, axis, is_setter)\u001b[0m\n\u001b[0;32m   1325\u001b[0m                 \u001b[1;32mif\u001b[0m \u001b[0mmask\u001b[0m\u001b[1;33m.\u001b[0m\u001b[0many\u001b[0m\u001b[1;33m(\u001b[0m\u001b[1;33m)\u001b[0m\u001b[1;33m:\u001b[0m\u001b[1;33m\u001b[0m\u001b[0m\n\u001b[0;32m   1326\u001b[0m                     raise KeyError('{mask} not in index'\n\u001b[1;32m-> 1327\u001b[1;33m                                    .format(mask=objarr[mask]))\n\u001b[0m\u001b[0;32m   1328\u001b[0m \u001b[1;33m\u001b[0m\u001b[0m\n\u001b[0;32m   1329\u001b[0m                 \u001b[1;32mreturn\u001b[0m \u001b[0mcom\u001b[0m\u001b[1;33m.\u001b[0m\u001b[0m_values_from_object\u001b[0m\u001b[1;33m(\u001b[0m\u001b[0mindexer\u001b[0m\u001b[1;33m)\u001b[0m\u001b[1;33m\u001b[0m\u001b[0m\n",
      "\u001b[1;31mKeyError\u001b[0m: \"['economic_typology'] not in index\""
     ]
    }
   ],
   "source": [
    "combined = pd.get_dummies(combined,columns=['economic_typology'],drop_first=True)"
   ]
  },
  {
   "cell_type": "code",
   "execution_count": 165,
   "metadata": {},
   "outputs": [
    {
     "data": {
      "text/html": [
       "<div>\n",
       "<style scoped>\n",
       "    .dataframe tbody tr th:only-of-type {\n",
       "        vertical-align: middle;\n",
       "    }\n",
       "\n",
       "    .dataframe tbody tr th {\n",
       "        vertical-align: top;\n",
       "    }\n",
       "\n",
       "    .dataframe thead th {\n",
       "        text-align: right;\n",
       "    }\n",
       "</style>\n",
       "<table border=\"1\" class=\"dataframe\">\n",
       "  <thead>\n",
       "    <tr style=\"text-align: right;\">\n",
       "      <th></th>\n",
       "      <th>row_id</th>\n",
       "      <th>county_code</th>\n",
       "      <th>year</th>\n",
       "      <th>state</th>\n",
       "      <th>population</th>\n",
       "      <th>renter_occupied_households</th>\n",
       "      <th>pct_renter_occupied</th>\n",
       "      <th>median_gross_rent</th>\n",
       "      <th>median_household_income</th>\n",
       "      <th>median_property_value</th>\n",
       "      <th>...</th>\n",
       "      <th>pct_adults_bachelors_or_higher</th>\n",
       "      <th>birth_rate_per_1k</th>\n",
       "      <th>death_rate_per_1k</th>\n",
       "      <th>evictions</th>\n",
       "      <th>evictionsSqrt</th>\n",
       "      <th>economic_typology_Federal/State government-dependent</th>\n",
       "      <th>economic_typology_Manufacturing-dependent</th>\n",
       "      <th>economic_typology_Mining-dependent</th>\n",
       "      <th>economic_typology_Nonspecialized</th>\n",
       "      <th>economic_typology_Recreation</th>\n",
       "    </tr>\n",
       "  </thead>\n",
       "  <tbody>\n",
       "    <tr>\n",
       "      <th>0</th>\n",
       "      <td>0</td>\n",
       "      <td>a4e2211</td>\n",
       "      <td>b</td>\n",
       "      <td>d725a95</td>\n",
       "      <td>45009.0</td>\n",
       "      <td>6944.0</td>\n",
       "      <td>37.218</td>\n",
       "      <td>643.0</td>\n",
       "      <td>33315.0</td>\n",
       "      <td>98494.0</td>\n",
       "      <td>...</td>\n",
       "      <td>0.114000</td>\n",
       "      <td>12.915129</td>\n",
       "      <td>11.205112</td>\n",
       "      <td>681</td>\n",
       "      <td>26.0</td>\n",
       "      <td>0</td>\n",
       "      <td>0</td>\n",
       "      <td>0</td>\n",
       "      <td>1</td>\n",
       "      <td>0</td>\n",
       "    </tr>\n",
       "    <tr>\n",
       "      <th>1</th>\n",
       "      <td>1</td>\n",
       "      <td>583e0c7</td>\n",
       "      <td>a</td>\n",
       "      <td>533155c</td>\n",
       "      <td>9872.0</td>\n",
       "      <td>1224.0</td>\n",
       "      <td>31.773</td>\n",
       "      <td>517.0</td>\n",
       "      <td>43724.0</td>\n",
       "      <td>85444.0</td>\n",
       "      <td>...</td>\n",
       "      <td>0.197791</td>\n",
       "      <td>11.049159</td>\n",
       "      <td>12.276843</td>\n",
       "      <td>0</td>\n",
       "      <td>0.0</td>\n",
       "      <td>0</td>\n",
       "      <td>0</td>\n",
       "      <td>0</td>\n",
       "      <td>1</td>\n",
       "      <td>0</td>\n",
       "    </tr>\n",
       "    <tr>\n",
       "      <th>2</th>\n",
       "      <td>2</td>\n",
       "      <td>4776bfd</td>\n",
       "      <td>b</td>\n",
       "      <td>d725a95</td>\n",
       "      <td>17625.0</td>\n",
       "      <td>1725.0</td>\n",
       "      <td>21.973</td>\n",
       "      <td>671.0</td>\n",
       "      <td>37777.0</td>\n",
       "      <td>136162.0</td>\n",
       "      <td>...</td>\n",
       "      <td>0.188623</td>\n",
       "      <td>7.903576</td>\n",
       "      <td>10.161741</td>\n",
       "      <td>29</td>\n",
       "      <td>5.0</td>\n",
       "      <td>0</td>\n",
       "      <td>0</td>\n",
       "      <td>0</td>\n",
       "      <td>0</td>\n",
       "      <td>1</td>\n",
       "    </tr>\n",
       "    <tr>\n",
       "      <th>3</th>\n",
       "      <td>3</td>\n",
       "      <td>97fb48d</td>\n",
       "      <td>a</td>\n",
       "      <td>d725a95</td>\n",
       "      <td>134136.0</td>\n",
       "      <td>18180.0</td>\n",
       "      <td>36.809</td>\n",
       "      <td>603.0</td>\n",
       "      <td>30607.0</td>\n",
       "      <td>70062.0</td>\n",
       "      <td>...</td>\n",
       "      <td>0.126620</td>\n",
       "      <td>13.137119</td>\n",
       "      <td>10.202072</td>\n",
       "      <td>841</td>\n",
       "      <td>29.0</td>\n",
       "      <td>0</td>\n",
       "      <td>0</td>\n",
       "      <td>0</td>\n",
       "      <td>1</td>\n",
       "      <td>0</td>\n",
       "    </tr>\n",
       "    <tr>\n",
       "      <th>4</th>\n",
       "      <td>4</td>\n",
       "      <td>47a9ba3</td>\n",
       "      <td>a</td>\n",
       "      <td>be99678</td>\n",
       "      <td>6936.0</td>\n",
       "      <td>551.0</td>\n",
       "      <td>17.627</td>\n",
       "      <td>668.0</td>\n",
       "      <td>44237.0</td>\n",
       "      <td>187066.0</td>\n",
       "      <td>...</td>\n",
       "      <td>0.251491</td>\n",
       "      <td>6.084752</td>\n",
       "      <td>5.939877</td>\n",
       "      <td>2</td>\n",
       "      <td>1.0</td>\n",
       "      <td>1</td>\n",
       "      <td>0</td>\n",
       "      <td>0</td>\n",
       "      <td>0</td>\n",
       "      <td>0</td>\n",
       "    </tr>\n",
       "  </tbody>\n",
       "</table>\n",
       "<p>5 rows × 46 columns</p>\n",
       "</div>"
      ],
      "text/plain": [
       "   row_id county_code year    state  population  renter_occupied_households  \\\n",
       "0       0     a4e2211    b  d725a95     45009.0                      6944.0   \n",
       "1       1     583e0c7    a  533155c      9872.0                      1224.0   \n",
       "2       2     4776bfd    b  d725a95     17625.0                      1725.0   \n",
       "3       3     97fb48d    a  d725a95    134136.0                     18180.0   \n",
       "4       4     47a9ba3    a  be99678      6936.0                       551.0   \n",
       "\n",
       "   pct_renter_occupied  median_gross_rent  median_household_income  \\\n",
       "0               37.218              643.0                  33315.0   \n",
       "1               31.773              517.0                  43724.0   \n",
       "2               21.973              671.0                  37777.0   \n",
       "3               36.809              603.0                  30607.0   \n",
       "4               17.627              668.0                  44237.0   \n",
       "\n",
       "   median_property_value              ...               \\\n",
       "0                98494.0              ...                \n",
       "1                85444.0              ...                \n",
       "2               136162.0              ...                \n",
       "3                70062.0              ...                \n",
       "4               187066.0              ...                \n",
       "\n",
       "   pct_adults_bachelors_or_higher  birth_rate_per_1k  death_rate_per_1k  \\\n",
       "0                        0.114000          12.915129          11.205112   \n",
       "1                        0.197791          11.049159          12.276843   \n",
       "2                        0.188623           7.903576          10.161741   \n",
       "3                        0.126620          13.137119          10.202072   \n",
       "4                        0.251491           6.084752           5.939877   \n",
       "\n",
       "   evictions  evictionsSqrt  \\\n",
       "0        681           26.0   \n",
       "1          0            0.0   \n",
       "2         29            5.0   \n",
       "3        841           29.0   \n",
       "4          2            1.0   \n",
       "\n",
       "   economic_typology_Federal/State government-dependent  \\\n",
       "0                                                  0      \n",
       "1                                                  0      \n",
       "2                                                  0      \n",
       "3                                                  0      \n",
       "4                                                  1      \n",
       "\n",
       "   economic_typology_Manufacturing-dependent  \\\n",
       "0                                          0   \n",
       "1                                          0   \n",
       "2                                          0   \n",
       "3                                          0   \n",
       "4                                          0   \n",
       "\n",
       "   economic_typology_Mining-dependent  economic_typology_Nonspecialized  \\\n",
       "0                                   0                                 1   \n",
       "1                                   0                                 1   \n",
       "2                                   0                                 0   \n",
       "3                                   0                                 1   \n",
       "4                                   0                                 0   \n",
       "\n",
       "   economic_typology_Recreation  \n",
       "0                             0  \n",
       "1                             0  \n",
       "2                             1  \n",
       "3                             0  \n",
       "4                             0  \n",
       "\n",
       "[5 rows x 46 columns]"
      ]
     },
     "execution_count": 165,
     "metadata": {},
     "output_type": "execute_result"
    }
   ],
   "source": [
    "combined.head()"
   ]
  },
  {
   "cell_type": "markdown",
   "metadata": {},
   "source": [
    "combined.head()"
   ]
  },
  {
   "cell_type": "code",
   "execution_count": 166,
   "metadata": {},
   "outputs": [],
   "source": [
    "predictordummy= ['population','median_household_income','median_gross_rent','median_property_value','rent_burden','pct_white',\n",
    "                 'pct_af_am','pct_asian','pct_multiple','poverty_rate','pct_unemployment','pct_female','pct_uninsured_children',\n",
    "                 'pct_adults_with_high_school_diploma','pct_adults_less_than_a_high_school_diploma',\n",
    "                 'economic_typology_Federal/State government-dependent','economic_typology_Manufacturing-dependent',\n",
    "                 'economic_typology_Mining-dependent','economic_typology_Nonspecialized','economic_typology_Recreation'] \n"
   ]
  },
  {
   "cell_type": "code",
   "execution_count": 167,
   "metadata": {},
   "outputs": [
    {
     "name": "stdout",
     "output_type": "stream",
     "text": [
      "(2546, 20)\n"
     ]
    }
   ],
   "source": [
    "features = combined[predictordummy]\n",
    "print(features.shape)"
   ]
  },
  {
   "cell_type": "code",
   "execution_count": 168,
   "metadata": {},
   "outputs": [],
   "source": [
    "X = features\n",
    "y = combined[['evictionsSqrt']]"
   ]
  },
  {
   "cell_type": "code",
   "execution_count": 169,
   "metadata": {},
   "outputs": [],
   "source": [
    "X_train2,X_test2,y_train2,y_test2 = train_test_split(X,y,test_size = 0.30)"
   ]
  },
  {
   "cell_type": "code",
   "execution_count": 170,
   "metadata": {},
   "outputs": [],
   "source": [
    "X_train2 = np.array(X_train2)\n",
    "X_test2 = np.array(X_test2)"
   ]
  },
  {
   "cell_type": "code",
   "execution_count": 171,
   "metadata": {},
   "outputs": [
    {
     "data": {
      "text/plain": [
       "array([[3.15690000e+04, 2.42330000e+04, 5.50000000e+02, 6.95140000e+04,\n",
       "        3.89900000e+01, 2.39783894e-01, 7.21678517e-01, 7.21019414e-03,\n",
       "        6.46121275e-03, 3.69530000e+01, 1.25000000e-01, 5.19000000e-01,\n",
       "        7.60000000e-02, 3.37000000e-01, 2.39000000e-01],\n",
       "       [5.60400000e+03, 4.42190000e+04, 6.37000000e+02, 8.11320000e+04,\n",
       "        2.54760000e+01, 5.37007545e-01, 1.30392372e-03, 3.61316266e-03,\n",
       "        2.89650230e-03, 1.18100000e+01, 2.50000000e-02, 4.97000000e-01,\n",
       "        2.05000000e-01, 2.95180723e-01, 2.47991968e-01],\n",
       "       [2.84741000e+05, 6.00510000e+04, 9.71000000e+02, 2.41754000e+05,\n",
       "        3.12080000e+01, 9.11109553e-01, 2.57506861e-02, 2.05524729e-02,\n",
       "        2.06526312e-02, 7.59300000e+00, 3.30000000e-02, 5.13000000e-01,\n",
       "        4.30000000e-02, 2.40556660e-01, 5.56660040e-02],\n",
       "       [9.02870000e+04, 3.93600000e+04, 6.09000000e+02, 1.14199000e+05,\n",
       "        2.94840000e+01, 8.21438951e-01, 5.92397350e-02, 3.61992764e-02,\n",
       "        1.80495285e-02, 1.46430000e+01, 5.60000000e-02, 4.95000000e-01,\n",
       "        7.20000000e-02, 2.99102692e-01, 2.08374875e-01],\n",
       "       [1.32712000e+05, 6.24600000e+04, 9.32000000e+02, 1.79461000e+05,\n",
       "        2.91840000e+01, 7.17996660e-01, 1.76397068e-01, 1.70977773e-02,\n",
       "        1.75077240e-02, 1.10600000e+01, 6.20000000e-02, 5.09000000e-01,\n",
       "        8.80000000e-02, 3.16782522e-01, 1.16186693e-01]])"
      ]
     },
     "execution_count": 171,
     "metadata": {},
     "output_type": "execute_result"
    }
   ],
   "source": [
    "X_train2[:5,:15]"
   ]
  },
  {
   "cell_type": "code",
   "execution_count": 172,
   "metadata": {},
   "outputs": [],
   "source": [
    "scaler = StandardScaler()"
   ]
  },
  {
   "cell_type": "code",
   "execution_count": 173,
   "metadata": {},
   "outputs": [
    {
     "data": {
      "text/plain": [
       "array([[-0.23363929, -1.8716453 , -0.76388591, -0.77732553,  2.33530472,\n",
       "        -2.65336689,  4.3150307 , -0.19445354, -0.74126128,  4.34296498,\n",
       "         3.1292883 ,  0.83796627, -0.24687869, -0.21637394,  1.35182029,\n",
       "         0.        ,  0.        ,  0.        ,  1.        ,  0.        ],\n",
       "       [-0.30769714, -0.16969238, -0.30204214, -0.62950331, -0.7121966 ,\n",
       "        -1.18070679, -0.60360208, -0.34205488, -0.97326559, -0.09560006,\n",
       "        -1.651118  , -0.11139304,  2.93410779, -0.80350069,  1.48408296,\n",
       "         0.        ,  0.        ,  0.        ,  0.        ,  0.        ],\n",
       "       [ 0.48846247,  1.1785173 ,  1.47101325,  1.41417897,  0.58040941,\n",
       "         0.67286408, -0.43668247,  0.35303631,  0.18236778, -0.84003902,\n",
       "        -1.26868549,  0.57905009, -1.06061942, -1.57040177, -1.34483576,\n",
       "         0.        ,  0.        ,  0.        ,  0.        ,  1.        ],\n",
       "       [-0.06616275, -0.58347149, -0.45068152, -0.20877363,  0.19163538,\n",
       "         0.22857132, -0.20802319,  0.9950905 ,  0.0129484 ,  0.40451746,\n",
       "        -0.16919205, -0.19769843, -0.34551393, -0.74843773,  0.90135595,\n",
       "         0.        ,  1.        ,  0.        ,  0.        ,  0.        ],\n",
       "       [ 0.0548426 ,  1.38366113,  1.26397983,  0.62159078,  0.12398328,\n",
       "        -0.28395632,  0.59191326,  0.21127561, -0.0223142 , -0.22799968,\n",
       "         0.11763233,  0.40643931,  0.04902703, -0.50021964, -0.45463816,\n",
       "         0.        ,  0.        ,  0.        ,  1.        ,  0.        ]])"
      ]
     },
     "execution_count": 173,
     "metadata": {},
     "output_type": "execute_result"
    }
   ],
   "source": [
    "scaler.fit(X_train2[:,:15])\n",
    "X_train2[:,:15] = scaler.transform(X_train2[:,:15])\n",
    "X_test2[:,:15] = scaler.transform(X_test2[:,:15])\n",
    "y_train2 = np.array(y_train2)\n",
    "y_test2 =np.array(y_test2)\n",
    "X_train2[:5,:]"
   ]
  },
  {
   "cell_type": "code",
   "execution_count": 174,
   "metadata": {},
   "outputs": [
    {
     "name": "stderr",
     "output_type": "stream",
     "text": [
      "C:\\Users\\lee68o\\AppData\\Local\\Continuum\\anaconda3\\lib\\site-packages\\sklearn\\ensemble\\forest.py:246: FutureWarning: The default value of n_estimators will change from 10 in version 0.20 to 100 in 0.22.\n",
      "  \"10 in version 0.20 to 100 in 0.22.\", FutureWarning)\n"
     ]
    },
    {
     "data": {
      "text/plain": [
       "(764,)"
      ]
     },
     "execution_count": 174,
     "metadata": {},
     "output_type": "execute_result"
    }
   ],
   "source": [
    "regr = RandomForestRegressor()\n",
    "X_train2.shape\n",
    "y_train2.shape\n",
    "X_test2.shape\n",
    "y_test2.shape\n",
    "y_train2 = np.ravel(y_train2)\n",
    "\n",
    "regr.fit(X_train2,y_train2)\n",
    "\n",
    "predict2 = regr.predict(X_test2)\n",
    "\n",
    "X_test2.shape\n",
    "predict2.shape\n",
    "\n",
    "#pd.Dataframe(predict2).head()"
   ]
  },
  {
   "cell_type": "code",
   "execution_count": 175,
   "metadata": {},
   "outputs": [
    {
     "name": "stdout",
     "output_type": "stream",
     "text": [
      "0.902941053427242\n",
      "4.579397008706581\n"
     ]
    },
    {
     "data": {
      "text/plain": [
       "(764,)"
      ]
     },
     "execution_count": 175,
     "metadata": {},
     "output_type": "execute_result"
    }
   ],
   "source": [
    "r2 = r2_score(y_true=y_test2,y_pred=predict2)\n",
    "print(r2)\n",
    "\n",
    "RMSE = math.sqrt(mean_squared_error(y_true = y_test2,y_pred = predict2))\n",
    "\n",
    "print(RMSE)\n",
    "\n",
    "predict.shape"
   ]
  },
  {
   "cell_type": "code",
   "execution_count": 176,
   "metadata": {},
   "outputs": [
    {
     "data": {
      "text/plain": [
       "0         0.0\n",
       "1         1.0\n",
       "2      1664.0\n",
       "3        15.0\n",
       "4        67.0\n",
       "5         6.0\n",
       "6        10.0\n",
       "7       144.0\n",
       "8         3.0\n",
       "9       201.0\n",
       "10        0.0\n",
       "11        0.0\n",
       "12        9.0\n",
       "13        3.0\n",
       "14      524.0\n",
       "15       73.0\n",
       "16       77.0\n",
       "17     1624.0\n",
       "18        0.0\n",
       "19        0.0\n",
       "20        1.0\n",
       "21      595.0\n",
       "22      190.0\n",
       "23       42.0\n",
       "24     7361.0\n",
       "25       86.0\n",
       "26       98.0\n",
       "27        0.0\n",
       "28        0.0\n",
       "29        7.0\n",
       "        ...  \n",
       "734     497.0\n",
       "735       2.0\n",
       "736       3.0\n",
       "737       2.0\n",
       "738       0.0\n",
       "739      20.0\n",
       "740       0.0\n",
       "741     102.0\n",
       "742       4.0\n",
       "743     219.0\n",
       "744       0.0\n",
       "745      17.0\n",
       "746       0.0\n",
       "747      10.0\n",
       "748       6.0\n",
       "749     282.0\n",
       "750       7.0\n",
       "751      94.0\n",
       "752     256.0\n",
       "753     182.0\n",
       "754      42.0\n",
       "755      21.0\n",
       "756      23.0\n",
       "757    2284.0\n",
       "758      65.0\n",
       "759      10.0\n",
       "760       0.0\n",
       "761     141.0\n",
       "762     153.0\n",
       "763      16.0\n",
       "Length: 764, dtype: float64"
      ]
     },
     "execution_count": 176,
     "metadata": {},
     "output_type": "execute_result"
    }
   ],
   "source": [
    "predict2 = np.square(predict2)\n",
    "\n",
    "predict2[:10]\n",
    "\n",
    "pd.Series(np.floor(predict2))"
   ]
  },
  {
   "cell_type": "code",
   "execution_count": 179,
   "metadata": {},
   "outputs": [],
   "source": [
    "np.savetxt(r'C:\\Users\\Capstone\\submit_answers.csv', predict2, delimiter=',',fmt='%i')"
   ]
  },
  {
   "cell_type": "code",
   "execution_count": 180,
   "metadata": {},
   "outputs": [
    {
     "name": "stderr",
     "output_type": "stream",
     "text": [
      "C:\\Users\\lee68o\\AppData\\Local\\Continuum\\anaconda3\\lib\\site-packages\\sklearn\\preprocessing\\_encoders.py:368: FutureWarning: The handling of integer data will change in version 0.22. Currently, the categories are determined based on the range [0, max(values)], while in the future they will be determined based on the unique values.\n",
      "If you want the future behaviour and silence this warning, you can specify \"categories='auto'\".\n",
      "In case you used a LabelEncoder before this OneHotEncoder to convert the categories to integers, then you can now use the OneHotEncoder directly.\n",
      "  warnings.warn(msg, FutureWarning)\n",
      "C:\\Users\\lee68o\\AppData\\Local\\Continuum\\anaconda3\\lib\\site-packages\\sklearn\\preprocessing\\_encoders.py:368: FutureWarning: The handling of integer data will change in version 0.22. Currently, the categories are determined based on the range [0, max(values)], while in the future they will be determined based on the unique values.\n",
      "If you want the future behaviour and silence this warning, you can specify \"categories='auto'\".\n",
      "In case you used a LabelEncoder before this OneHotEncoder to convert the categories to integers, then you can now use the OneHotEncoder directly.\n",
      "  warnings.warn(msg, FutureWarning)\n",
      "C:\\Users\\lee68o\\AppData\\Local\\Continuum\\anaconda3\\lib\\site-packages\\sklearn\\preprocessing\\_encoders.py:368: FutureWarning: The handling of integer data will change in version 0.22. Currently, the categories are determined based on the range [0, max(values)], while in the future they will be determined based on the unique values.\n",
      "If you want the future behaviour and silence this warning, you can specify \"categories='auto'\".\n",
      "In case you used a LabelEncoder before this OneHotEncoder to convert the categories to integers, then you can now use the OneHotEncoder directly.\n",
      "  warnings.warn(msg, FutureWarning)\n",
      "C:\\Users\\lee68o\\AppData\\Local\\Continuum\\anaconda3\\lib\\site-packages\\sklearn\\preprocessing\\_encoders.py:368: FutureWarning: The handling of integer data will change in version 0.22. Currently, the categories are determined based on the range [0, max(values)], while in the future they will be determined based on the unique values.\n",
      "If you want the future behaviour and silence this warning, you can specify \"categories='auto'\".\n",
      "In case you used a LabelEncoder before this OneHotEncoder to convert the categories to integers, then you can now use the OneHotEncoder directly.\n",
      "  warnings.warn(msg, FutureWarning)\n"
     ]
    },
    {
     "data": {
      "text/plain": [
       "array([[0., 0., 1., ..., 0., 0., 0.],\n",
       "       [0., 0., 1., ..., 0., 0., 0.],\n",
       "       [0., 0., 0., ..., 0., 0., 1.],\n",
       "       ...,\n",
       "       [0., 0., 0., ..., 0., 0., 0.],\n",
       "       [0., 1., 0., ..., 0., 0., 0.],\n",
       "       [0., 0., 1., ..., 0., 0., 0.]])"
      ]
     },
     "execution_count": 180,
     "metadata": {},
     "output_type": "execute_result"
    }
   ],
   "source": [
    "encoded = encode_cat_features(test)\n",
    "encoded[:,:]"
   ]
  },
  {
   "cell_type": "code",
   "execution_count": 184,
   "metadata": {},
   "outputs": [
    {
     "data": {
      "text/plain": [
       "array([[0]], dtype=int64)"
      ]
     },
     "execution_count": 184,
     "metadata": {},
     "output_type": "execute_result"
    }
   ],
   "source": [
    "numeric_final_features = np.array(final[['row_id']])\n",
    "numeric_final_features[:1,:]"
   ]
  },
  {
   "cell_type": "code",
   "execution_count": 186,
   "metadata": {},
   "outputs": [
    {
     "data": {
      "text/plain": [
       "array([[-0.32368097, -3.93526109, -3.67827935, ..., -2.12094825,\n",
       "        -4.94772582, -2.16362589],\n",
       "       [-0.32368097, -3.93526109, -3.67827935, ..., -2.12094825,\n",
       "        -4.94772582, -2.16362589],\n",
       "       [-0.32368097, -3.93526109, -3.6835879 , ..., -2.12094825,\n",
       "         9.09189402, -2.16362589],\n",
       "       ...,\n",
       "       [-0.32368097, -3.93526109, -3.6835879 , ..., -2.12094825,\n",
       "        -4.94772582, -2.16362589],\n",
       "       [-0.32368097, -3.93517594, -3.6835879 , ..., -2.12094825,\n",
       "        -4.94772582, -2.16362589],\n",
       "       [-0.32368097, -3.93526109, -3.67827935, ..., -2.12094825,\n",
       "        -4.94772582, -2.16362589]])"
      ]
     },
     "execution_count": 186,
     "metadata": {},
     "output_type": "execute_result"
    }
   ],
   "source": [
    "final_test = np.concatenate([encoded,numeric_final_features], 1)\n",
    "final_test[:,:15]= scaler.transform(final_test[:,:15])\n",
    "final_test[:,:15]"
   ]
  },
  {
   "cell_type": "code",
   "execution_count": 189,
   "metadata": {},
   "outputs": [],
   "source": [
    "final_reg_scores = np.square(predict2)\n",
    "np.savetxt(r'C:\\Users\\Capstone\\regression_answers.csv', final_reg_scores, delimiter=',',fmt='%i')"
   ]
  },
  {
   "cell_type": "code",
   "execution_count": null,
   "metadata": {},
   "outputs": [],
   "source": []
  }
 ],
 "metadata": {
  "kernelspec": {
   "display_name": "Python 3",
   "language": "python",
   "name": "python3"
  },
  "language_info": {
   "codemirror_mode": {
    "name": "ipython",
    "version": 3
   },
   "file_extension": ".py",
   "mimetype": "text/x-python",
   "name": "python",
   "nbconvert_exporter": "python",
   "pygments_lexer": "ipython3",
   "version": "3.7.0"
  }
 },
 "nbformat": 4,
 "nbformat_minor": 2
}
